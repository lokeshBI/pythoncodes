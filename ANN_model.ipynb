{
  "nbformat": 4,
  "nbformat_minor": 0,
  "metadata": {
    "colab": {
      "name": "ANN model.ipynb",
      "provenance": [],
      "include_colab_link": true
    },
    "kernelspec": {
      "name": "python3",
      "display_name": "Python 3"
    }
  },
  "cells": [
    {
      "cell_type": "markdown",
      "metadata": {
        "id": "view-in-github",
        "colab_type": "text"
      },
      "source": [
        "<a href=\"https://colab.research.google.com/github/lokeshBI/pythoncodes/blob/master/ANN_model.ipynb\" target=\"_parent\"><img src=\"https://colab.research.google.com/assets/colab-badge.svg\" alt=\"Open In Colab\"/></a>"
      ]
    },
    {
      "cell_type": "code",
      "metadata": {
        "id": "fw0b-xfos6mU",
        "colab_type": "code",
        "colab": {
          "resources": {
            "http://localhost:8080/nbextensions/google.colab/files.js": {
              "data": "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",
              "ok": true,
              "headers": [
                [
                  "content-type",
                  "application/javascript"
                ]
              ],
              "status": 200,
              "status_text": ""
            }
          },
          "base_uri": "https://localhost:8080/",
          "height": 74
        },
        "outputId": "623b4ef3-6ea6-4eb8-df5a-9a7fcc3a79a9"
      },
      "source": [
        "# To import files from your local system.\n",
        "from google.colab import files\n",
        "uploaded = files.upload()\n",
        "import io\n",
        "import pandas as pd\n",
        "churn_data = pd.read_csv(io.BytesIO(uploaded['Churn_Modelling.csv']))"
      ],
      "execution_count": 7,
      "outputs": [
        {
          "output_type": "display_data",
          "data": {
            "text/html": [
              "\n",
              "     <input type=\"file\" id=\"files-f5f3c827-6dda-4c0c-8230-143761a454fd\" name=\"files[]\" multiple disabled />\n",
              "     <output id=\"result-f5f3c827-6dda-4c0c-8230-143761a454fd\">\n",
              "      Upload widget is only available when the cell has been executed in the\n",
              "      current browser session. Please rerun this cell to enable.\n",
              "      </output>\n",
              "      <script src=\"/nbextensions/google.colab/files.js\"></script> "
            ],
            "text/plain": [
              "<IPython.core.display.HTML object>"
            ]
          },
          "metadata": {
            "tags": []
          }
        },
        {
          "output_type": "stream",
          "text": [
            "Saving Churn_Modelling.csv to Churn_Modelling.csv\n"
          ],
          "name": "stdout"
        }
      ]
    },
    {
      "cell_type": "code",
      "metadata": {
        "id": "sBw9WJGdwcKJ",
        "colab_type": "code",
        "colab": {
          "base_uri": "https://localhost:8080/",
          "height": 204
        },
        "outputId": "d0800040-2e96-448d-a69c-f847a5eaaca7"
      },
      "source": [
        "churn_data.head()"
      ],
      "execution_count": 8,
      "outputs": [
        {
          "output_type": "execute_result",
          "data": {
            "text/html": [
              "<div>\n",
              "<style scoped>\n",
              "    .dataframe tbody tr th:only-of-type {\n",
              "        vertical-align: middle;\n",
              "    }\n",
              "\n",
              "    .dataframe tbody tr th {\n",
              "        vertical-align: top;\n",
              "    }\n",
              "\n",
              "    .dataframe thead th {\n",
              "        text-align: right;\n",
              "    }\n",
              "</style>\n",
              "<table border=\"1\" class=\"dataframe\">\n",
              "  <thead>\n",
              "    <tr style=\"text-align: right;\">\n",
              "      <th></th>\n",
              "      <th>RowNumber</th>\n",
              "      <th>CustomerId</th>\n",
              "      <th>Surname</th>\n",
              "      <th>CreditScore</th>\n",
              "      <th>Geography</th>\n",
              "      <th>Gender</th>\n",
              "      <th>Age</th>\n",
              "      <th>Tenure</th>\n",
              "      <th>Balance</th>\n",
              "      <th>NumOfProducts</th>\n",
              "      <th>HasCrCard</th>\n",
              "      <th>IsActiveMember</th>\n",
              "      <th>EstimatedSalary</th>\n",
              "      <th>Exited</th>\n",
              "    </tr>\n",
              "  </thead>\n",
              "  <tbody>\n",
              "    <tr>\n",
              "      <th>0</th>\n",
              "      <td>1</td>\n",
              "      <td>15634602</td>\n",
              "      <td>Hargrave</td>\n",
              "      <td>619</td>\n",
              "      <td>France</td>\n",
              "      <td>Female</td>\n",
              "      <td>42</td>\n",
              "      <td>2</td>\n",
              "      <td>0.00</td>\n",
              "      <td>1</td>\n",
              "      <td>1</td>\n",
              "      <td>1</td>\n",
              "      <td>101348.88</td>\n",
              "      <td>1</td>\n",
              "    </tr>\n",
              "    <tr>\n",
              "      <th>1</th>\n",
              "      <td>2</td>\n",
              "      <td>15647311</td>\n",
              "      <td>Hill</td>\n",
              "      <td>608</td>\n",
              "      <td>Spain</td>\n",
              "      <td>Female</td>\n",
              "      <td>41</td>\n",
              "      <td>1</td>\n",
              "      <td>83807.86</td>\n",
              "      <td>1</td>\n",
              "      <td>0</td>\n",
              "      <td>1</td>\n",
              "      <td>112542.58</td>\n",
              "      <td>0</td>\n",
              "    </tr>\n",
              "    <tr>\n",
              "      <th>2</th>\n",
              "      <td>3</td>\n",
              "      <td>15619304</td>\n",
              "      <td>Onio</td>\n",
              "      <td>502</td>\n",
              "      <td>France</td>\n",
              "      <td>Female</td>\n",
              "      <td>42</td>\n",
              "      <td>8</td>\n",
              "      <td>159660.80</td>\n",
              "      <td>3</td>\n",
              "      <td>1</td>\n",
              "      <td>0</td>\n",
              "      <td>113931.57</td>\n",
              "      <td>1</td>\n",
              "    </tr>\n",
              "    <tr>\n",
              "      <th>3</th>\n",
              "      <td>4</td>\n",
              "      <td>15701354</td>\n",
              "      <td>Boni</td>\n",
              "      <td>699</td>\n",
              "      <td>France</td>\n",
              "      <td>Female</td>\n",
              "      <td>39</td>\n",
              "      <td>1</td>\n",
              "      <td>0.00</td>\n",
              "      <td>2</td>\n",
              "      <td>0</td>\n",
              "      <td>0</td>\n",
              "      <td>93826.63</td>\n",
              "      <td>0</td>\n",
              "    </tr>\n",
              "    <tr>\n",
              "      <th>4</th>\n",
              "      <td>5</td>\n",
              "      <td>15737888</td>\n",
              "      <td>Mitchell</td>\n",
              "      <td>850</td>\n",
              "      <td>Spain</td>\n",
              "      <td>Female</td>\n",
              "      <td>43</td>\n",
              "      <td>2</td>\n",
              "      <td>125510.82</td>\n",
              "      <td>1</td>\n",
              "      <td>1</td>\n",
              "      <td>1</td>\n",
              "      <td>79084.10</td>\n",
              "      <td>0</td>\n",
              "    </tr>\n",
              "  </tbody>\n",
              "</table>\n",
              "</div>"
            ],
            "text/plain": [
              "   RowNumber  CustomerId   Surname  ...  IsActiveMember EstimatedSalary Exited\n",
              "0          1    15634602  Hargrave  ...               1       101348.88      1\n",
              "1          2    15647311      Hill  ...               1       112542.58      0\n",
              "2          3    15619304      Onio  ...               0       113931.57      1\n",
              "3          4    15701354      Boni  ...               0        93826.63      0\n",
              "4          5    15737888  Mitchell  ...               1        79084.10      0\n",
              "\n",
              "[5 rows x 14 columns]"
            ]
          },
          "metadata": {
            "tags": []
          },
          "execution_count": 8
        }
      ]
    },
    {
      "cell_type": "code",
      "metadata": {
        "id": "i_w90NiV0sOm",
        "colab_type": "code",
        "colab": {
          "base_uri": "https://localhost:8080/",
          "height": 272
        },
        "outputId": "9e5632d4-0180-4175-8c13-07ed32ae159a"
      },
      "source": [
        "churn_data.dtypes"
      ],
      "execution_count": 9,
      "outputs": [
        {
          "output_type": "execute_result",
          "data": {
            "text/plain": [
              "RowNumber            int64\n",
              "CustomerId           int64\n",
              "Surname             object\n",
              "CreditScore          int64\n",
              "Geography           object\n",
              "Gender              object\n",
              "Age                  int64\n",
              "Tenure               int64\n",
              "Balance            float64\n",
              "NumOfProducts        int64\n",
              "HasCrCard            int64\n",
              "IsActiveMember       int64\n",
              "EstimatedSalary    float64\n",
              "Exited               int64\n",
              "dtype: object"
            ]
          },
          "metadata": {
            "tags": []
          },
          "execution_count": 9
        }
      ]
    },
    {
      "cell_type": "markdown",
      "metadata": {
        "id": "PRdDkKQ22nU2",
        "colab_type": "text"
      },
      "source": [
        "## Here we are dealing with classification problem.\n",
        "## Our target variable is 'Exited' to classify whether they will be in or out of bank.\n",
        "# Data Preprocessing\n"
      ]
    },
    {
      "cell_type": "code",
      "metadata": {
        "id": "kAwVz6vU27Y9",
        "colab_type": "code",
        "colab": {}
      },
      "source": [
        ""
      ],
      "execution_count": 0,
      "outputs": []
    },
    {
      "cell_type": "code",
      "metadata": {
        "id": "a7ahxtnZ2qBe",
        "colab_type": "code",
        "colab": {}
      },
      "source": [
        "import pandas as pd\n",
        "import numpy as np\n",
        "import matplotlib.pyplot as plt\n"
      ],
      "execution_count": 0,
      "outputs": []
    },
    {
      "cell_type": "code",
      "metadata": {
        "id": "JtoaESDQ4Aav",
        "colab_type": "code",
        "colab": {}
      },
      "source": [
        "# split the data into inputs and response variables\n",
        "X= churn_data.iloc[:, 3:13].values # upper bound exculded so 13.\n",
        "y = churn_data.iloc[:,13].values"
      ],
      "execution_count": 0,
      "outputs": []
    },
    {
      "cell_type": "code",
      "metadata": {
        "id": "kL7UC7nC5Sc1",
        "colab_type": "code",
        "colab": {
          "base_uri": "https://localhost:8080/",
          "height": 170
        },
        "outputId": "513fa289-cb98-404d-8922-2cf2313b1fab"
      },
      "source": [
        "print(X, '\\n')\n",
        "print(y)"
      ],
      "execution_count": 12,
      "outputs": [
        {
          "output_type": "stream",
          "text": [
            "[[619 'France' 'Female' ... 1 1 101348.88]\n",
            " [608 'Spain' 'Female' ... 0 1 112542.58]\n",
            " [502 'France' 'Female' ... 1 0 113931.57]\n",
            " ...\n",
            " [709 'France' 'Female' ... 0 1 42085.58]\n",
            " [772 'Germany' 'Male' ... 1 0 92888.52]\n",
            " [792 'France' 'Female' ... 1 0 38190.78]] \n",
            "\n",
            "[1 0 1 ... 1 1 0]\n"
          ],
          "name": "stdout"
        }
      ]
    },
    {
      "cell_type": "code",
      "metadata": {
        "id": "HjgUW2w06bDl",
        "colab_type": "code",
        "colab": {
          "base_uri": "https://localhost:8080/",
          "height": 139
        },
        "outputId": "6909e084-27ed-40af-a019-4688d56d9e9a"
      },
      "source": [
        "# In our data we have factor data so we need to encode it\n",
        "from sklearn.preprocessing import LabelEncoder, OneHotEncoder\n",
        "label_encoder_x1 = LabelEncoder()\n",
        "label_encoder_x2 = LabelEncoder()\n",
        "X[:,1] = label_encoder_x1.fit_transform(X[:,1])\n",
        "X[:,2] = label_encoder_x2.fit_transform(X[:,2])\n",
        "onehotencoder = OneHotEncoder(categorical_features = [1]) # here we do onehotencoding for country column only because it shows order like 1,2 and 3 when it labelencoded.\n",
        "X = onehotencoder.fit_transform(X).toarray()"
      ],
      "execution_count": 15,
      "outputs": [
        {
          "output_type": "stream",
          "text": [
            "/usr/local/lib/python3.6/dist-packages/sklearn/preprocessing/_encoders.py:415: FutureWarning: The handling of integer data will change in version 0.22. Currently, the categories are determined based on the range [0, max(values)], while in the future they will be determined based on the unique values.\n",
            "If you want the future behaviour and silence this warning, you can specify \"categories='auto'\".\n",
            "In case you used a LabelEncoder before this OneHotEncoder to convert the categories to integers, then you can now use the OneHotEncoder directly.\n",
            "  warnings.warn(msg, FutureWarning)\n",
            "/usr/local/lib/python3.6/dist-packages/sklearn/preprocessing/_encoders.py:451: DeprecationWarning: The 'categorical_features' keyword is deprecated in version 0.20 and will be removed in 0.22. You can use the ColumnTransformer instead.\n",
            "  \"use the ColumnTransformer instead.\", DeprecationWarning)\n"
          ],
          "name": "stderr"
        }
      ]
    },
    {
      "cell_type": "code",
      "metadata": {
        "id": "J5k4WphP92g1",
        "colab_type": "code",
        "colab": {
          "base_uri": "https://localhost:8080/",
          "height": 272
        },
        "outputId": "c7555438-adfe-4a51-e681-e4a0b9d17ce2"
      },
      "source": [
        "print(X,'\\n')\n",
        "print(y)"
      ],
      "execution_count": 16,
      "outputs": [
        {
          "output_type": "stream",
          "text": [
            "[[1.0000000e+00 0.0000000e+00 0.0000000e+00 ... 1.0000000e+00\n",
            "  1.0000000e+00 1.0134888e+05]\n",
            " [0.0000000e+00 0.0000000e+00 1.0000000e+00 ... 0.0000000e+00\n",
            "  1.0000000e+00 1.1254258e+05]\n",
            " [1.0000000e+00 0.0000000e+00 0.0000000e+00 ... 1.0000000e+00\n",
            "  0.0000000e+00 1.1393157e+05]\n",
            " ...\n",
            " [1.0000000e+00 0.0000000e+00 0.0000000e+00 ... 0.0000000e+00\n",
            "  1.0000000e+00 4.2085580e+04]\n",
            " [0.0000000e+00 1.0000000e+00 0.0000000e+00 ... 1.0000000e+00\n",
            "  0.0000000e+00 9.2888520e+04]\n",
            " [1.0000000e+00 0.0000000e+00 0.0000000e+00 ... 1.0000000e+00\n",
            "  0.0000000e+00 3.8190780e+04]] \n",
            "\n",
            "[1 0 1 ... 1 1 0]\n"
          ],
          "name": "stdout"
        }
      ]
    },
    {
      "cell_type": "code",
      "metadata": {
        "id": "kuSzu5zyU01U",
        "colab_type": "code",
        "colab": {}
      },
      "source": [
        "# here we converted all country column into dummy variables so inorder to avoid dummy variable trap we have to take 2 dummy columns out of 3.\n",
        "X = X[:, 1:]"
      ],
      "execution_count": 0,
      "outputs": []
    },
    {
      "cell_type": "code",
      "metadata": {
        "id": "cVvAFyGIU1TK",
        "colab_type": "code",
        "colab": {
          "base_uri": "https://localhost:8080/",
          "height": 238
        },
        "outputId": "183cd6cb-5e49-42f5-fd64-b9878239c8dc"
      },
      "source": [
        "print(X)"
      ],
      "execution_count": 19,
      "outputs": [
        {
          "output_type": "stream",
          "text": [
            "[[0.0000000e+00 0.0000000e+00 6.1900000e+02 ... 1.0000000e+00\n",
            "  1.0000000e+00 1.0134888e+05]\n",
            " [0.0000000e+00 1.0000000e+00 6.0800000e+02 ... 0.0000000e+00\n",
            "  1.0000000e+00 1.1254258e+05]\n",
            " [0.0000000e+00 0.0000000e+00 5.0200000e+02 ... 1.0000000e+00\n",
            "  0.0000000e+00 1.1393157e+05]\n",
            " ...\n",
            " [0.0000000e+00 0.0000000e+00 7.0900000e+02 ... 0.0000000e+00\n",
            "  1.0000000e+00 4.2085580e+04]\n",
            " [1.0000000e+00 0.0000000e+00 7.7200000e+02 ... 1.0000000e+00\n",
            "  0.0000000e+00 9.2888520e+04]\n",
            " [0.0000000e+00 0.0000000e+00 7.9200000e+02 ... 1.0000000e+00\n",
            "  0.0000000e+00 3.8190780e+04]]\n"
          ],
          "name": "stdout"
        }
      ]
    },
    {
      "cell_type": "code",
      "metadata": {
        "id": "DBNO7Xm_5ksU",
        "colab_type": "code",
        "colab": {}
      },
      "source": [
        "# split the data into train and test\n",
        "from sklearn.model_selection import train_test_split\n",
        "X_trian, X_test, y_train, y_test = train_test_split(X,y, test_size = 0.2, random_state =0)"
      ],
      "execution_count": 0,
      "outputs": []
    },
    {
      "cell_type": "code",
      "metadata": {
        "id": "MpTCnjNoV8iC",
        "colab_type": "code",
        "colab": {}
      },
      "source": [
        "# feature scaling is necessary in deep learning models\n",
        "from sklearn.preprocessing import StandardScaler\n",
        "sc = StandardScaler()\n",
        "X_trian = sc.fit_transform(X_trian)\n",
        "X_test = sc.transform(X_test)"
      ],
      "execution_count": 0,
      "outputs": []
    },
    {
      "cell_type": "code",
      "metadata": {
        "id": "KAMI2iuHV84J",
        "colab_type": "code",
        "colab": {
          "base_uri": "https://localhost:8080/",
          "height": 476
        },
        "outputId": "08d202f0-376b-477a-e2a1-9cc0eb9a3ea1"
      },
      "source": [
        "print(X_trian,'\\n')\n",
        "print(X_test)"
      ],
      "execution_count": 23,
      "outputs": [
        {
          "output_type": "stream",
          "text": [
            "[[-0.5698444   1.74309049  0.16958176 ...  0.64259497 -1.03227043\n",
            "   1.10643166]\n",
            " [ 1.75486502 -0.57369368 -2.30455945 ...  0.64259497  0.9687384\n",
            "  -0.74866447]\n",
            " [-0.5698444  -0.57369368 -1.19119591 ...  0.64259497 -1.03227043\n",
            "   1.48533467]\n",
            " ...\n",
            " [-0.5698444  -0.57369368  0.9015152  ...  0.64259497 -1.03227043\n",
            "   1.41231994]\n",
            " [-0.5698444   1.74309049 -0.62420521 ...  0.64259497  0.9687384\n",
            "   0.84432121]\n",
            " [ 1.75486502 -0.57369368 -0.28401079 ...  0.64259497 -1.03227043\n",
            "   0.32472465]] \n",
            "\n",
            "[[ 1.75486502 -0.57369368 -0.55204276 ...  0.64259497  0.9687384\n",
            "   1.61085707]\n",
            " [-0.5698444  -0.57369368 -1.31490297 ...  0.64259497 -1.03227043\n",
            "   0.49587037]\n",
            " [-0.5698444   1.74309049  0.57162971 ...  0.64259497  0.9687384\n",
            "  -0.42478674]\n",
            " ...\n",
            " [-0.5698444   1.74309049 -0.74791227 ...  0.64259497 -1.03227043\n",
            "   0.71888467]\n",
            " [ 1.75486502 -0.57369368 -0.00566991 ...  0.64259497  0.9687384\n",
            "  -1.54507805]\n",
            " [ 1.75486502 -0.57369368 -0.79945688 ...  0.64259497 -1.03227043\n",
            "   1.61255917]]\n"
          ],
          "name": "stdout"
        }
      ]
    },
    {
      "cell_type": "code",
      "metadata": {
        "id": "nb5dGcpUV9Bh",
        "colab_type": "code",
        "colab": {}
      },
      "source": [
        "# ANN model building & required packages\n",
        "import keras\n",
        "from keras.models import Sequential  # to initialize the model\n",
        "from keras.layers import Dense       # for layers  "
      ],
      "execution_count": 0,
      "outputs": []
    },
    {
      "cell_type": "code",
      "metadata": {
        "id": "qsce71hAV9Kw",
        "colab_type": "code",
        "colab": {
          "base_uri": "https://localhost:8080/",
          "height": 71
        },
        "outputId": "9fa39c0f-b0fb-4af3-e4dc-5359841ea263"
      },
      "source": [
        "# Initializing the ANN\n",
        "classifier = Sequential()"
      ],
      "execution_count": 25,
      "outputs": [
        {
          "output_type": "stream",
          "text": [
            "WARNING:tensorflow:From /usr/local/lib/python3.6/dist-packages/keras/backend/tensorflow_backend.py:66: The name tf.get_default_graph is deprecated. Please use tf.compat.v1.get_default_graph instead.\n",
            "\n"
          ],
          "name": "stdout"
        }
      ]
    },
    {
      "cell_type": "code",
      "metadata": {
        "id": "Dqhg8kRkZf0r",
        "colab_type": "code",
        "colab": {
          "base_uri": "https://localhost:8080/",
          "height": 139
        },
        "outputId": "321b10a0-a871-4cac-8695-4101bba81a09"
      },
      "source": [
        "# Adding the input layer and first hidden layers.\n",
        "\n",
        "# Will choose activation functions : hidden layer --> rectifier function, output layer --> sigmoid function.\n",
        "# To add no.of hidden layers as rule of thumb = (input nodes + output node) / 2, (11+ 1)/2 = 6.\n",
        "# We have to initialize the weights, here we are using 'uniform' function to assign weights uniformly.\n",
        "classifier.add(Dense(output_dim = 6, init = 'uniform', activation='relu', input_dim = 11 ))\n",
        "\n"
      ],
      "execution_count": 27,
      "outputs": [
        {
          "output_type": "stream",
          "text": [
            "WARNING:tensorflow:From /usr/local/lib/python3.6/dist-packages/keras/backend/tensorflow_backend.py:541: The name tf.placeholder is deprecated. Please use tf.compat.v1.placeholder instead.\n",
            "\n",
            "WARNING:tensorflow:From /usr/local/lib/python3.6/dist-packages/keras/backend/tensorflow_backend.py:4432: The name tf.random_uniform is deprecated. Please use tf.random.uniform instead.\n",
            "\n"
          ],
          "name": "stdout"
        },
        {
          "output_type": "stream",
          "text": [
            "/usr/local/lib/python3.6/dist-packages/ipykernel_launcher.py:1: UserWarning: Update your `Dense` call to the Keras 2 API: `Dense(activation=\"relu\", input_dim=11, units=6, kernel_initializer=\"uniform\")`\n",
            "  \"\"\"Entry point for launching an IPython kernel.\n"
          ],
          "name": "stderr"
        }
      ]
    },
    {
      "cell_type": "code",
      "metadata": {
        "id": "JnZ6E6Vzgsn_",
        "colab_type": "code",
        "colab": {
          "base_uri": "https://localhost:8080/",
          "height": 51
        },
        "outputId": "aa71e9aa-258d-4af7-d06f-91b16a1b2c53"
      },
      "source": [
        "# Adding second hidden layer, as this is second hidden layer we don't need to specify input nodes.\n",
        "classifier.add(Dense(output_dim = 6, init = 'uniform', activation='relu'))"
      ],
      "execution_count": 28,
      "outputs": [
        {
          "output_type": "stream",
          "text": [
            "/usr/local/lib/python3.6/dist-packages/ipykernel_launcher.py:1: UserWarning: Update your `Dense` call to the Keras 2 API: `Dense(activation=\"relu\", units=6, kernel_initializer=\"uniform\")`\n",
            "  \"\"\"Entry point for launching an IPython kernel.\n"
          ],
          "name": "stderr"
        }
      ]
    },
    {
      "cell_type": "code",
      "metadata": {
        "id": "79W1eFsw3CVD",
        "colab_type": "code",
        "colab": {
          "base_uri": "https://localhost:8080/",
          "height": 51
        },
        "outputId": "e2d03241-222e-4585-b03f-ad06ce350975"
      },
      "source": [
        "# Adding the output layer, activation function = 'sigmoid' if you have two classes and if it will be 3 classes then use 'softmax'\n",
        "classifier.add(Dense(output_dim = 1, init = 'uniform', activation='sigmoid'))\n"
      ],
      "execution_count": 29,
      "outputs": [
        {
          "output_type": "stream",
          "text": [
            "/usr/local/lib/python3.6/dist-packages/ipykernel_launcher.py:1: UserWarning: Update your `Dense` call to the Keras 2 API: `Dense(activation=\"sigmoid\", units=1, kernel_initializer=\"uniform\")`\n",
            "  \"\"\"Entry point for launching an IPython kernel.\n"
          ],
          "name": "stderr"
        }
      ]
    },
    {
      "cell_type": "code",
      "metadata": {
        "id": "4ZhCg4IO4gWc",
        "colab_type": "code",
        "colab": {
          "base_uri": "https://localhost:8080/",
          "height": 156
        },
        "outputId": "3d29495d-bc9b-4ae9-cb77-3584b80233df"
      },
      "source": [
        "# compiling the ANN, optimizer = 'adam' algorithm, loss function --> binary crossentropy\n",
        "classifier.compile(optimizer = 'adam', loss= 'binary_crossentropy', metrics= ['accuracy'])"
      ],
      "execution_count": 30,
      "outputs": [
        {
          "output_type": "stream",
          "text": [
            "WARNING:tensorflow:From /usr/local/lib/python3.6/dist-packages/keras/optimizers.py:793: The name tf.train.Optimizer is deprecated. Please use tf.compat.v1.train.Optimizer instead.\n",
            "\n",
            "WARNING:tensorflow:From /usr/local/lib/python3.6/dist-packages/keras/backend/tensorflow_backend.py:3657: The name tf.log is deprecated. Please use tf.math.log instead.\n",
            "\n",
            "WARNING:tensorflow:From /usr/local/lib/python3.6/dist-packages/tensorflow_core/python/ops/nn_impl.py:183: where (from tensorflow.python.ops.array_ops) is deprecated and will be removed in a future version.\n",
            "Instructions for updating:\n",
            "Use tf.where in 2.0, which has the same broadcast rule as np.where\n"
          ],
          "name": "stdout"
        }
      ]
    },
    {
      "cell_type": "code",
      "metadata": {
        "id": "GL_mKg646Cpy",
        "colab_type": "code",
        "colab": {
          "base_uri": "https://localhost:8080/",
          "height": 1000
        },
        "outputId": "fe094e81-6c00-4a59-dc67-ba644a80496b"
      },
      "source": [
        "# Fitting ANN to the training set\n",
        "classifier.fit(X_trian, y_train, batch_size=10, epochs= 100)"
      ],
      "execution_count": 32,
      "outputs": [
        {
          "output_type": "stream",
          "text": [
            "WARNING:tensorflow:From /usr/local/lib/python3.6/dist-packages/keras/backend/tensorflow_backend.py:1033: The name tf.assign_add is deprecated. Please use tf.compat.v1.assign_add instead.\n",
            "\n",
            "WARNING:tensorflow:From /usr/local/lib/python3.6/dist-packages/keras/backend/tensorflow_backend.py:1020: The name tf.assign is deprecated. Please use tf.compat.v1.assign instead.\n",
            "\n",
            "WARNING:tensorflow:From /usr/local/lib/python3.6/dist-packages/keras/backend/tensorflow_backend.py:3005: The name tf.Session is deprecated. Please use tf.compat.v1.Session instead.\n",
            "\n",
            "Epoch 1/100\n",
            "WARNING:tensorflow:From /usr/local/lib/python3.6/dist-packages/keras/backend/tensorflow_backend.py:190: The name tf.get_default_session is deprecated. Please use tf.compat.v1.get_default_session instead.\n",
            "\n",
            "WARNING:tensorflow:From /usr/local/lib/python3.6/dist-packages/keras/backend/tensorflow_backend.py:197: The name tf.ConfigProto is deprecated. Please use tf.compat.v1.ConfigProto instead.\n",
            "\n",
            "WARNING:tensorflow:From /usr/local/lib/python3.6/dist-packages/keras/backend/tensorflow_backend.py:207: The name tf.global_variables is deprecated. Please use tf.compat.v1.global_variables instead.\n",
            "\n",
            "WARNING:tensorflow:From /usr/local/lib/python3.6/dist-packages/keras/backend/tensorflow_backend.py:216: The name tf.is_variable_initialized is deprecated. Please use tf.compat.v1.is_variable_initialized instead.\n",
            "\n",
            "WARNING:tensorflow:From /usr/local/lib/python3.6/dist-packages/keras/backend/tensorflow_backend.py:223: The name tf.variables_initializer is deprecated. Please use tf.compat.v1.variables_initializer instead.\n",
            "\n",
            "8000/8000 [==============================] - 2s 205us/step - loss: 0.4848 - acc: 0.7984\n",
            "Epoch 2/100\n",
            "8000/8000 [==============================] - 1s 128us/step - loss: 0.4074 - acc: 0.8230\n",
            "Epoch 3/100\n",
            "8000/8000 [==============================] - 1s 131us/step - loss: 0.3939 - acc: 0.8274\n",
            "Epoch 4/100\n",
            "8000/8000 [==============================] - 1s 129us/step - loss: 0.3844 - acc: 0.8301\n",
            "Epoch 5/100\n",
            "8000/8000 [==============================] - 1s 126us/step - loss: 0.3781 - acc: 0.8324\n",
            "Epoch 6/100\n",
            "8000/8000 [==============================] - 1s 129us/step - loss: 0.3731 - acc: 0.8435\n",
            "Epoch 7/100\n",
            "8000/8000 [==============================] - 1s 130us/step - loss: 0.3687 - acc: 0.8479\n",
            "Epoch 8/100\n",
            "8000/8000 [==============================] - 1s 128us/step - loss: 0.3654 - acc: 0.8534\n",
            "Epoch 9/100\n",
            "8000/8000 [==============================] - 1s 130us/step - loss: 0.3624 - acc: 0.8507\n",
            "Epoch 10/100\n",
            "8000/8000 [==============================] - 1s 128us/step - loss: 0.3600 - acc: 0.8526\n",
            "Epoch 11/100\n",
            "8000/8000 [==============================] - 1s 126us/step - loss: 0.3584 - acc: 0.8519\n",
            "Epoch 12/100\n",
            "8000/8000 [==============================] - 1s 129us/step - loss: 0.3565 - acc: 0.8562\n",
            "Epoch 13/100\n",
            "8000/8000 [==============================] - 1s 128us/step - loss: 0.3551 - acc: 0.8549\n",
            "Epoch 14/100\n",
            "8000/8000 [==============================] - 1s 130us/step - loss: 0.3531 - acc: 0.8552\n",
            "Epoch 15/100\n",
            "8000/8000 [==============================] - 1s 129us/step - loss: 0.3524 - acc: 0.8545\n",
            "Epoch 16/100\n",
            "8000/8000 [==============================] - 1s 129us/step - loss: 0.3512 - acc: 0.8521\n",
            "Epoch 17/100\n",
            "8000/8000 [==============================] - 1s 128us/step - loss: 0.3500 - acc: 0.8569\n",
            "Epoch 18/100\n",
            "8000/8000 [==============================] - 1s 127us/step - loss: 0.3488 - acc: 0.8572\n",
            "Epoch 19/100\n",
            "8000/8000 [==============================] - 1s 126us/step - loss: 0.3486 - acc: 0.8549\n",
            "Epoch 20/100\n",
            "8000/8000 [==============================] - 1s 124us/step - loss: 0.3474 - acc: 0.8567\n",
            "Epoch 21/100\n",
            "8000/8000 [==============================] - 1s 130us/step - loss: 0.3469 - acc: 0.8564\n",
            "Epoch 22/100\n",
            "8000/8000 [==============================] - 1s 125us/step - loss: 0.3454 - acc: 0.8576\n",
            "Epoch 23/100\n",
            "8000/8000 [==============================] - 1s 126us/step - loss: 0.3457 - acc: 0.8572\n",
            "Epoch 24/100\n",
            "8000/8000 [==============================] - 1s 131us/step - loss: 0.3454 - acc: 0.8576\n",
            "Epoch 25/100\n",
            "8000/8000 [==============================] - 1s 129us/step - loss: 0.3445 - acc: 0.8572\n",
            "Epoch 26/100\n",
            "8000/8000 [==============================] - 1s 129us/step - loss: 0.3443 - acc: 0.8595\n",
            "Epoch 27/100\n",
            "8000/8000 [==============================] - 1s 128us/step - loss: 0.3438 - acc: 0.8572\n",
            "Epoch 28/100\n",
            "8000/8000 [==============================] - 1s 128us/step - loss: 0.3433 - acc: 0.8602\n",
            "Epoch 29/100\n",
            "8000/8000 [==============================] - 1s 125us/step - loss: 0.3433 - acc: 0.8557\n",
            "Epoch 30/100\n",
            "8000/8000 [==============================] - 1s 125us/step - loss: 0.3431 - acc: 0.8589\n",
            "Epoch 31/100\n",
            "8000/8000 [==============================] - 1s 125us/step - loss: 0.3430 - acc: 0.8577\n",
            "Epoch 32/100\n",
            "8000/8000 [==============================] - 1s 127us/step - loss: 0.3432 - acc: 0.8584\n",
            "Epoch 33/100\n",
            "8000/8000 [==============================] - 1s 126us/step - loss: 0.3425 - acc: 0.8582\n",
            "Epoch 34/100\n",
            "8000/8000 [==============================] - 1s 129us/step - loss: 0.3429 - acc: 0.8609\n",
            "Epoch 35/100\n",
            "8000/8000 [==============================] - 1s 126us/step - loss: 0.3411 - acc: 0.8600\n",
            "Epoch 36/100\n",
            "8000/8000 [==============================] - 1s 127us/step - loss: 0.3412 - acc: 0.8575\n",
            "Epoch 37/100\n",
            "8000/8000 [==============================] - 1s 129us/step - loss: 0.3414 - acc: 0.8584\n",
            "Epoch 38/100\n",
            "8000/8000 [==============================] - 1s 125us/step - loss: 0.3405 - acc: 0.8609\n",
            "Epoch 39/100\n",
            "8000/8000 [==============================] - 1s 128us/step - loss: 0.3413 - acc: 0.8585\n",
            "Epoch 40/100\n",
            "8000/8000 [==============================] - 1s 128us/step - loss: 0.3417 - acc: 0.8589\n",
            "Epoch 41/100\n",
            "8000/8000 [==============================] - 1s 124us/step - loss: 0.3411 - acc: 0.8591\n",
            "Epoch 42/100\n",
            "8000/8000 [==============================] - 1s 126us/step - loss: 0.3410 - acc: 0.8597\n",
            "Epoch 43/100\n",
            "8000/8000 [==============================] - 1s 128us/step - loss: 0.3412 - acc: 0.8586\n",
            "Epoch 44/100\n",
            "8000/8000 [==============================] - 1s 128us/step - loss: 0.3410 - acc: 0.8587\n",
            "Epoch 45/100\n",
            "8000/8000 [==============================] - 1s 128us/step - loss: 0.3400 - acc: 0.8599\n",
            "Epoch 46/100\n",
            "8000/8000 [==============================] - 1s 128us/step - loss: 0.3407 - acc: 0.8582\n",
            "Epoch 47/100\n",
            "8000/8000 [==============================] - 1s 126us/step - loss: 0.3403 - acc: 0.8599\n",
            "Epoch 48/100\n",
            "8000/8000 [==============================] - 1s 128us/step - loss: 0.3410 - acc: 0.8622\n",
            "Epoch 49/100\n",
            "8000/8000 [==============================] - 1s 126us/step - loss: 0.3385 - acc: 0.8627\n",
            "Epoch 50/100\n",
            "8000/8000 [==============================] - 1s 125us/step - loss: 0.3398 - acc: 0.8615\n",
            "Epoch 51/100\n",
            "8000/8000 [==============================] - 1s 126us/step - loss: 0.3397 - acc: 0.8579\n",
            "Epoch 52/100\n",
            "8000/8000 [==============================] - 1s 126us/step - loss: 0.3402 - acc: 0.8604\n",
            "Epoch 53/100\n",
            "8000/8000 [==============================] - 1s 127us/step - loss: 0.3400 - acc: 0.8616\n",
            "Epoch 54/100\n",
            "8000/8000 [==============================] - 1s 128us/step - loss: 0.3398 - acc: 0.8595\n",
            "Epoch 55/100\n",
            "8000/8000 [==============================] - 1s 130us/step - loss: 0.3399 - acc: 0.8601\n",
            "Epoch 56/100\n",
            "8000/8000 [==============================] - 1s 128us/step - loss: 0.3400 - acc: 0.8604\n",
            "Epoch 57/100\n",
            "8000/8000 [==============================] - 1s 125us/step - loss: 0.3396 - acc: 0.8614\n",
            "Epoch 58/100\n",
            "8000/8000 [==============================] - 1s 130us/step - loss: 0.3396 - acc: 0.8614\n",
            "Epoch 59/100\n",
            "8000/8000 [==============================] - 1s 127us/step - loss: 0.3383 - acc: 0.8600\n",
            "Epoch 60/100\n",
            "8000/8000 [==============================] - 1s 125us/step - loss: 0.3391 - acc: 0.8627\n",
            "Epoch 61/100\n",
            "8000/8000 [==============================] - 1s 130us/step - loss: 0.3393 - acc: 0.8585\n",
            "Epoch 62/100\n",
            "8000/8000 [==============================] - 1s 128us/step - loss: 0.3391 - acc: 0.8614\n",
            "Epoch 63/100\n",
            "8000/8000 [==============================] - 1s 125us/step - loss: 0.3389 - acc: 0.8574\n",
            "Epoch 64/100\n",
            "8000/8000 [==============================] - 1s 126us/step - loss: 0.3396 - acc: 0.8601\n",
            "Epoch 65/100\n",
            "8000/8000 [==============================] - 1s 130us/step - loss: 0.3398 - acc: 0.8590\n",
            "Epoch 66/100\n",
            "8000/8000 [==============================] - 1s 127us/step - loss: 0.3394 - acc: 0.8612\n",
            "Epoch 67/100\n",
            "8000/8000 [==============================] - 1s 124us/step - loss: 0.3388 - acc: 0.8596\n",
            "Epoch 68/100\n",
            "8000/8000 [==============================] - 1s 125us/step - loss: 0.3384 - acc: 0.8624\n",
            "Epoch 69/100\n",
            "8000/8000 [==============================] - 1s 129us/step - loss: 0.3394 - acc: 0.8589\n",
            "Epoch 70/100\n",
            "8000/8000 [==============================] - 1s 127us/step - loss: 0.3390 - acc: 0.8596\n",
            "Epoch 71/100\n",
            "8000/8000 [==============================] - 1s 127us/step - loss: 0.3392 - acc: 0.8601\n",
            "Epoch 72/100\n",
            "8000/8000 [==============================] - 1s 127us/step - loss: 0.3377 - acc: 0.8654\n",
            "Epoch 73/100\n",
            "8000/8000 [==============================] - 1s 129us/step - loss: 0.3391 - acc: 0.8622\n",
            "Epoch 74/100\n",
            "8000/8000 [==============================] - 1s 129us/step - loss: 0.3383 - acc: 0.8611\n",
            "Epoch 75/100\n",
            "8000/8000 [==============================] - 1s 126us/step - loss: 0.3388 - acc: 0.8622\n",
            "Epoch 76/100\n",
            "8000/8000 [==============================] - 1s 130us/step - loss: 0.3384 - acc: 0.8594\n",
            "Epoch 77/100\n",
            "8000/8000 [==============================] - 1s 127us/step - loss: 0.3383 - acc: 0.8609\n",
            "Epoch 78/100\n",
            "8000/8000 [==============================] - 1s 127us/step - loss: 0.3389 - acc: 0.8617\n",
            "Epoch 79/100\n",
            "8000/8000 [==============================] - 1s 129us/step - loss: 0.3392 - acc: 0.8619\n",
            "Epoch 80/100\n",
            "8000/8000 [==============================] - 1s 126us/step - loss: 0.3381 - acc: 0.8615\n",
            "Epoch 81/100\n",
            "8000/8000 [==============================] - 1s 128us/step - loss: 0.3388 - acc: 0.8612\n",
            "Epoch 82/100\n",
            "8000/8000 [==============================] - 1s 126us/step - loss: 0.3388 - acc: 0.8614\n",
            "Epoch 83/100\n",
            "8000/8000 [==============================] - 1s 126us/step - loss: 0.3384 - acc: 0.8621\n",
            "Epoch 84/100\n",
            "8000/8000 [==============================] - 1s 128us/step - loss: 0.3374 - acc: 0.8612\n",
            "Epoch 85/100\n",
            "8000/8000 [==============================] - 1s 129us/step - loss: 0.3387 - acc: 0.8599\n",
            "Epoch 86/100\n",
            "8000/8000 [==============================] - 1s 135us/step - loss: 0.3380 - acc: 0.8617\n",
            "Epoch 87/100\n",
            "8000/8000 [==============================] - 1s 125us/step - loss: 0.3385 - acc: 0.8611\n",
            "Epoch 88/100\n",
            "8000/8000 [==============================] - 1s 128us/step - loss: 0.3384 - acc: 0.8602\n",
            "Epoch 89/100\n",
            "8000/8000 [==============================] - 1s 127us/step - loss: 0.3368 - acc: 0.8607\n",
            "Epoch 90/100\n",
            "8000/8000 [==============================] - 1s 127us/step - loss: 0.3374 - acc: 0.8634\n",
            "Epoch 91/100\n",
            "8000/8000 [==============================] - 1s 127us/step - loss: 0.3387 - acc: 0.8607\n",
            "Epoch 92/100\n",
            "8000/8000 [==============================] - 1s 135us/step - loss: 0.3387 - acc: 0.8604\n",
            "Epoch 93/100\n",
            "8000/8000 [==============================] - 1s 142us/step - loss: 0.3380 - acc: 0.8621\n",
            "Epoch 94/100\n",
            "8000/8000 [==============================] - 1s 145us/step - loss: 0.3379 - acc: 0.8621\n",
            "Epoch 95/100\n",
            "8000/8000 [==============================] - 1s 146us/step - loss: 0.3380 - acc: 0.8622\n",
            "Epoch 96/100\n",
            "8000/8000 [==============================] - 1s 144us/step - loss: 0.3387 - acc: 0.8614\n",
            "Epoch 97/100\n",
            "8000/8000 [==============================] - 1s 136us/step - loss: 0.3383 - acc: 0.8621\n",
            "Epoch 98/100\n",
            "8000/8000 [==============================] - 1s 125us/step - loss: 0.3397 - acc: 0.8602\n",
            "Epoch 99/100\n",
            "8000/8000 [==============================] - 1s 126us/step - loss: 0.3361 - acc: 0.8640\n",
            "Epoch 100/100\n",
            "8000/8000 [==============================] - 1s 129us/step - loss: 0.3384 - acc: 0.8606\n"
          ],
          "name": "stdout"
        },
        {
          "output_type": "execute_result",
          "data": {
            "text/plain": [
              "<keras.callbacks.History at 0x7efd3b55bac8>"
            ]
          },
          "metadata": {
            "tags": []
          },
          "execution_count": 32
        }
      ]
    },
    {
      "cell_type": "code",
      "metadata": {
        "id": "8s6zlyyK5w6B",
        "colab_type": "code",
        "colab": {}
      },
      "source": [
        "y_pred = classifier.predict(X_test)"
      ],
      "execution_count": 0,
      "outputs": []
    },
    {
      "cell_type": "code",
      "metadata": {
        "id": "ZeWQ-v_jDQ6_",
        "colab_type": "code",
        "colab": {
          "base_uri": "https://localhost:8080/",
          "height": 136
        },
        "outputId": "ce8711e2-6440-41f1-c3a9-508e13d48f50"
      },
      "source": [
        "y_pred"
      ],
      "execution_count": 34,
      "outputs": [
        {
          "output_type": "execute_result",
          "data": {
            "text/plain": [
              "array([[0.16167012],\n",
              "       [0.23018748],\n",
              "       [0.10274157],\n",
              "       ...,\n",
              "       [0.18870103],\n",
              "       [0.13086444],\n",
              "       [0.2954541 ]], dtype=float32)"
            ]
          },
          "metadata": {
            "tags": []
          },
          "execution_count": 34
        }
      ]
    },
    {
      "cell_type": "code",
      "metadata": {
        "id": "ZKKZs-tLDnCf",
        "colab_type": "code",
        "colab": {
          "base_uri": "https://localhost:8080/",
          "height": 136
        },
        "outputId": "b314ca71-7a29-4ea0-97c1-2cbdadeb1f1f"
      },
      "source": [
        "y_pred = (y_pred > 0.5)\n",
        "y_pred"
      ],
      "execution_count": 35,
      "outputs": [
        {
          "output_type": "execute_result",
          "data": {
            "text/plain": [
              "array([[False],\n",
              "       [False],\n",
              "       [False],\n",
              "       ...,\n",
              "       [False],\n",
              "       [False],\n",
              "       [False]])"
            ]
          },
          "metadata": {
            "tags": []
          },
          "execution_count": 35
        }
      ]
    },
    {
      "cell_type": "code",
      "metadata": {
        "id": "Pqm29jYr-dkj",
        "colab_type": "code",
        "colab": {
          "base_uri": "https://localhost:8080/",
          "height": 51
        },
        "outputId": "8e632960-fb6e-49e4-b5b2-61a0e4ee8af1"
      },
      "source": [
        "from sklearn.metrics import confusion_matrix\n",
        "cm = confusion_matrix(y_test, y_pred)\n",
        "cm"
      ],
      "execution_count": 36,
      "outputs": [
        {
          "output_type": "execute_result",
          "data": {
            "text/plain": [
              "array([[1533,   62],\n",
              "       [ 205,  200]])"
            ]
          },
          "metadata": {
            "tags": []
          },
          "execution_count": 36
        }
      ]
    }
  ]
}