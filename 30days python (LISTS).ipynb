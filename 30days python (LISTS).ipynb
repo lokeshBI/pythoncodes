{
 "cells": [
  {
   "cell_type": "code",
   "execution_count": 7,
   "metadata": {},
   "outputs": [
    {
     "data": {
      "text/plain": [
       "[]"
      ]
     },
     "execution_count": 7,
     "metadata": {},
     "output_type": "execute_result"
    }
   ],
   "source": [
    "# Declare an empty list\n",
    "em_list = list()\n",
    "em_list"
   ]
  },
  {
   "cell_type": "code",
   "execution_count": 8,
   "metadata": {},
   "outputs": [
    {
     "data": {
      "text/plain": [
       "[]"
      ]
     },
     "execution_count": 8,
     "metadata": {},
     "output_type": "execute_result"
    }
   ],
   "source": [
    "em_list1 = []\n",
    "em_list1"
   ]
  },
  {
   "cell_type": "code",
   "execution_count": 9,
   "metadata": {},
   "outputs": [
    {
     "name": "stdout",
     "output_type": "stream",
     "text": [
      "['apple', 10, 20, 'mango', 'india'] \n",
      "\n",
      "5\n"
     ]
    }
   ],
   "source": [
    "# Declare a list with more than 5 items, Find the length of your list\n",
    "list_of_5 = ['apple', 10, 20, 'mango', 'india']\n",
    "print(list_of_5, '\\n')\n",
    "print(len(list_of_5))"
   ]
  },
  {
   "cell_type": "code",
   "execution_count": 23,
   "metadata": {},
   "outputs": [
    {
     "name": "stdout",
     "output_type": "stream",
     "text": [
      "apple\n",
      "20\n",
      "india\n"
     ]
    }
   ],
   "source": [
    "# Get the first item, the middle item and the last item of the list\n",
    "print(list_of_5[0])\n",
    "print(list_of_5[math.ceil(len(list_of_5)/2-1)])\n",
    "print(list_of_5[-1])"
   ]
  },
  {
   "cell_type": "code",
   "execution_count": 24,
   "metadata": {},
   "outputs": [
    {
     "data": {
      "text/plain": [
       "['lokesh', 31, 5.9, 'unmarried', 'hyd']"
      ]
     },
     "execution_count": 24,
     "metadata": {},
     "output_type": "execute_result"
    }
   ],
   "source": [
    "# Declare a list called mixed_data_types, put your(name, age, height, marital status, address)\n",
    "mixed_data_types = ['lokesh', 31, 5.9, 'unmarried','hyd']\n",
    "mixed_data_types"
   ]
  },
  {
   "cell_type": "code",
   "execution_count": 25,
   "metadata": {},
   "outputs": [
    {
     "data": {
      "text/plain": [
       "['facebook', 'google', 'microsoft', 'apple', 'ibm', 'oracle', 'amazon']"
      ]
     },
     "execution_count": 25,
     "metadata": {},
     "output_type": "execute_result"
    }
   ],
   "source": [
    "# Declare a list variable named it_companies and assign initial values Facebook, Google, Microsoft, Apple, IBM, Oracle and Amazon.\n",
    "it_companies = ['facebook', 'google','microsoft','apple','ibm','oracle','amazon']\n",
    "it_companies"
   ]
  },
  {
   "cell_type": "code",
   "execution_count": 26,
   "metadata": {},
   "outputs": [
    {
     "data": {
      "text/plain": [
       "7"
      ]
     },
     "execution_count": 26,
     "metadata": {},
     "output_type": "execute_result"
    }
   ],
   "source": [
    "# Print the number of companies in the list\n",
    "len(it_companies)"
   ]
  },
  {
   "cell_type": "code",
   "execution_count": 27,
   "metadata": {},
   "outputs": [
    {
     "name": "stdout",
     "output_type": "stream",
     "text": [
      "facebook\n",
      "apple\n",
      "amazon\n"
     ]
    }
   ],
   "source": [
    "# Print the first, middle and last company\n",
    "# import math\n",
    "print(it_companies[0])\n",
    "print(it_companies[math.ceil(len(it_companies)/2)-1])\n",
    "print(it_companies[-1])"
   ]
  },
  {
   "cell_type": "code",
   "execution_count": 28,
   "metadata": {},
   "outputs": [
    {
     "data": {
      "text/plain": [
       "['facebook', 'google', 'microsoft', 'apple', 'ibm', 'oracle', 'amazon', 'tcs']"
      ]
     },
     "execution_count": 28,
     "metadata": {},
     "output_type": "execute_result"
    }
   ],
   "source": [
    "# Add an IT company to it_companies\n",
    "it_companies.append('tcs')\n",
    "it_companies"
   ]
  },
  {
   "cell_type": "code",
   "execution_count": 29,
   "metadata": {},
   "outputs": [
    {
     "data": {
      "text/plain": [
       "['facebook',\n",
       " 'google',\n",
       " 'microsoft',\n",
       " 'apple',\n",
       " 'wipro',\n",
       " 'ibm',\n",
       " 'oracle',\n",
       " 'amazon',\n",
       " 'tcs']"
      ]
     },
     "execution_count": 29,
     "metadata": {},
     "output_type": "execute_result"
    }
   ],
   "source": [
    "# Insert an IT company in the middle of the companies list\n",
    "it_companies.insert(4, 'wipro')\n",
    "it_companies"
   ]
  },
  {
   "cell_type": "code",
   "execution_count": 31,
   "metadata": {},
   "outputs": [
    {
     "data": {
      "text/plain": [
       "['FACEBOOK',\n",
       " 'google',\n",
       " 'microsoft',\n",
       " 'apple',\n",
       " 'wipro',\n",
       " 'ibm',\n",
       " 'oracle',\n",
       " 'amazon',\n",
       " 'tcs']"
      ]
     },
     "execution_count": 31,
     "metadata": {},
     "output_type": "execute_result"
    }
   ],
   "source": [
    "# Change one of the it_companies names to uppercase (IBM excluded!)\n",
    "it_companies[0] = it_companies[0].upper()\n",
    "it_companies"
   ]
  },
  {
   "cell_type": "code",
   "execution_count": 37,
   "metadata": {},
   "outputs": [
    {
     "data": {
      "text/plain": [
       "'FACEBOOK#; google#; microsoft#; apple#; wipro#; ibm#; oracle#; amazon#; tcs'"
      ]
     },
     "execution_count": 37,
     "metadata": {},
     "output_type": "execute_result"
    }
   ],
   "source": [
    "# Join the it_companies with a string '#;  '\n",
    "'#; '.join(it_companies)"
   ]
  },
  {
   "cell_type": "code",
   "execution_count": 38,
   "metadata": {},
   "outputs": [
    {
     "data": {
      "text/plain": [
       "True"
      ]
     },
     "execution_count": 38,
     "metadata": {},
     "output_type": "execute_result"
    }
   ],
   "source": [
    "# Check if a certain company exists in the it_companies list.\n",
    "'ibm' in it_companies"
   ]
  },
  {
   "cell_type": "code",
   "execution_count": 43,
   "metadata": {},
   "outputs": [
    {
     "data": {
      "text/plain": [
       "['FACEBOOK',\n",
       " 'amazon',\n",
       " 'apple',\n",
       " 'google',\n",
       " 'ibm',\n",
       " 'microsoft',\n",
       " 'oracle',\n",
       " 'tcs',\n",
       " 'wipro']"
      ]
     },
     "execution_count": 43,
     "metadata": {},
     "output_type": "execute_result"
    }
   ],
   "source": [
    "# Sort the list using sort() method\n",
    "it_companies.sort()\n",
    "it_companies"
   ]
  },
  {
   "cell_type": "code",
   "execution_count": 44,
   "metadata": {},
   "outputs": [],
   "source": [
    "# Reverse the list in descending order using reverse() method\n",
    "it_companies.reverse()"
   ]
  },
  {
   "cell_type": "code",
   "execution_count": 45,
   "metadata": {},
   "outputs": [
    {
     "data": {
      "text/plain": [
       "['wipro',\n",
       " 'tcs',\n",
       " 'oracle',\n",
       " 'microsoft',\n",
       " 'ibm',\n",
       " 'google',\n",
       " 'apple',\n",
       " 'amazon',\n",
       " 'FACEBOOK']"
      ]
     },
     "execution_count": 45,
     "metadata": {},
     "output_type": "execute_result"
    }
   ],
   "source": [
    "it_companies"
   ]
  },
  {
   "cell_type": "code",
   "execution_count": 47,
   "metadata": {},
   "outputs": [
    {
     "data": {
      "text/plain": [
       "['wipro', 'tcs', 'oracle']"
      ]
     },
     "execution_count": 47,
     "metadata": {},
     "output_type": "execute_result"
    }
   ],
   "source": [
    "# Slice out the first 3 companies from the list\n",
    "it_companies[:3]"
   ]
  },
  {
   "cell_type": "code",
   "execution_count": 48,
   "metadata": {},
   "outputs": [
    {
     "data": {
      "text/plain": [
       "['apple', 'amazon', 'FACEBOOK']"
      ]
     },
     "execution_count": 48,
     "metadata": {},
     "output_type": "execute_result"
    }
   ],
   "source": [
    "# Slice out the last 3 companies from the list\n",
    "it_companies[-3:]"
   ]
  },
  {
   "cell_type": "code",
   "execution_count": 49,
   "metadata": {},
   "outputs": [
    {
     "data": {
      "text/plain": [
       "9"
      ]
     },
     "execution_count": 49,
     "metadata": {},
     "output_type": "execute_result"
    }
   ],
   "source": [
    "# Slice out the middle IT company or companies from the list\n",
    "len(it_companies)"
   ]
  },
  {
   "cell_type": "code",
   "execution_count": 63,
   "metadata": {},
   "outputs": [],
   "source": [
    "def get_middle_items(items):\n",
    "    if len(items) % 2 == 0:\n",
    "        print(items[(len(items)//2)-1 : (len(items)//2)+1 ])\n",
    "    else:\n",
    "        print(items[math.ceil(len(items)/2-1)])"
   ]
  },
  {
   "cell_type": "code",
   "execution_count": 64,
   "metadata": {},
   "outputs": [
    {
     "name": "stdout",
     "output_type": "stream",
     "text": [
      "ibm\n"
     ]
    }
   ],
   "source": [
    "get_middle_items(it_companies)"
   ]
  },
  {
   "cell_type": "code",
   "execution_count": 65,
   "metadata": {},
   "outputs": [
    {
     "name": "stdout",
     "output_type": "stream",
     "text": [
      "['tcs', 'ug']\n"
     ]
    }
   ],
   "source": [
    "even_comp = ['wipro', 'tcs', 'ug', 'pt']\n",
    "get_middle_items(even_comp)"
   ]
  },
  {
   "cell_type": "code",
   "execution_count": 67,
   "metadata": {},
   "outputs": [
    {
     "data": {
      "text/plain": [
       "['tcs', 'oracle', 'microsoft', 'ibm', 'google', 'apple', 'amazon', 'FACEBOOK']"
      ]
     },
     "execution_count": 67,
     "metadata": {},
     "output_type": "execute_result"
    }
   ],
   "source": [
    "# Remove the first IT company from the list\n",
    "it_companies.remove('wipro')\n",
    "it_companies"
   ]
  },
  {
   "cell_type": "code",
   "execution_count": 69,
   "metadata": {},
   "outputs": [
    {
     "data": {
      "text/plain": [
       "['tcs', 'oracle', 'microsoft', 'ibm', 'google', 'apple', 'amazon']"
      ]
     },
     "execution_count": 69,
     "metadata": {},
     "output_type": "execute_result"
    }
   ],
   "source": [
    "# Remove the last IT company from the list\n",
    "it_companies.pop()\n",
    "it_companies"
   ]
  },
  {
   "cell_type": "code",
   "execution_count": 70,
   "metadata": {},
   "outputs": [
    {
     "data": {
      "text/plain": [
       "[]"
      ]
     },
     "execution_count": 70,
     "metadata": {},
     "output_type": "execute_result"
    }
   ],
   "source": [
    "# Remove all IT companies from the list\n",
    "it_companies.clear()\n",
    "it_companies"
   ]
  },
  {
   "cell_type": "code",
   "execution_count": 71,
   "metadata": {},
   "outputs": [
    {
     "ename": "NameError",
     "evalue": "name 'it_companies' is not defined",
     "output_type": "error",
     "traceback": [
      "\u001b[1;31m---------------------------------------------------------------------------\u001b[0m",
      "\u001b[1;31mNameError\u001b[0m                                 Traceback (most recent call last)",
      "\u001b[1;32m<ipython-input-71-6a5b21eb4ef4>\u001b[0m in \u001b[0;36m<module>\u001b[1;34m\u001b[0m\n\u001b[0;32m      1\u001b[0m \u001b[1;31m# Destroy the IT companies list\u001b[0m\u001b[1;33m\u001b[0m\u001b[1;33m\u001b[0m\u001b[1;33m\u001b[0m\u001b[0m\n\u001b[0;32m      2\u001b[0m \u001b[1;32mdel\u001b[0m \u001b[0mit_companies\u001b[0m\u001b[1;33m\u001b[0m\u001b[1;33m\u001b[0m\u001b[0m\n\u001b[1;32m----> 3\u001b[1;33m \u001b[0mit_companies\u001b[0m\u001b[1;33m\u001b[0m\u001b[1;33m\u001b[0m\u001b[0m\n\u001b[0m",
      "\u001b[1;31mNameError\u001b[0m: name 'it_companies' is not defined"
     ]
    }
   ],
   "source": [
    "# Destroy the IT companies list\n",
    "del it_companies\n",
    "it_companies"
   ]
  },
  {
   "cell_type": "code",
   "execution_count": 72,
   "metadata": {},
   "outputs": [],
   "source": [
    "# join the lists\n",
    "front_end = ['HTML', 'CSS', 'JS', 'React', 'Redux']\n",
    "back_end = ['Node','Express', 'MongoDB']"
   ]
  },
  {
   "cell_type": "code",
   "execution_count": 75,
   "metadata": {},
   "outputs": [
    {
     "data": {
      "text/plain": [
       "['HTML', 'CSS', 'JS', 'React', 'Redux', 'Node', 'Express', 'MongoDB']"
      ]
     },
     "execution_count": 75,
     "metadata": {},
     "output_type": "execute_result"
    }
   ],
   "source": [
    "# method 1\n",
    "front_end + back_end"
   ]
  },
  {
   "cell_type": "code",
   "execution_count": 76,
   "metadata": {},
   "outputs": [],
   "source": [
    "# method 2\n",
    "front_end.extend(back_end)"
   ]
  },
  {
   "cell_type": "code",
   "execution_count": 77,
   "metadata": {},
   "outputs": [
    {
     "data": {
      "text/plain": [
       "['HTML', 'CSS', 'JS', 'React', 'Redux', 'Node', 'Express', 'MongoDB']"
      ]
     },
     "execution_count": 77,
     "metadata": {},
     "output_type": "execute_result"
    }
   ],
   "source": [
    "front_end"
   ]
  },
  {
   "cell_type": "code",
   "execution_count": null,
   "metadata": {},
   "outputs": [],
   "source": []
  }
 ],
 "metadata": {
  "kernelspec": {
   "display_name": "Python 3",
   "language": "python",
   "name": "python3"
  },
  "language_info": {
   "codemirror_mode": {
    "name": "ipython",
    "version": 3
   },
   "file_extension": ".py",
   "mimetype": "text/x-python",
   "name": "python",
   "nbconvert_exporter": "python",
   "pygments_lexer": "ipython3",
   "version": "3.7.6"
  }
 },
 "nbformat": 4,
 "nbformat_minor": 4
}
