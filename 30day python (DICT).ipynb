{
 "cells": [
  {
   "cell_type": "code",
   "execution_count": 1,
   "metadata": {},
   "outputs": [
    {
     "data": {
      "text/plain": [
       "{}"
      ]
     },
     "execution_count": 1,
     "metadata": {},
     "output_type": "execute_result"
    }
   ],
   "source": [
    "# Create an empty dictionary called dog\n",
    "dog = {}\n",
    "dog"
   ]
  },
  {
   "cell_type": "code",
   "execution_count": 3,
   "metadata": {},
   "outputs": [
    {
     "data": {
      "text/plain": [
       "{'name': 'jimmy', 'color': 'brown', 'breed': 'labor', 'legs': 4, 'age': 5}"
      ]
     },
     "execution_count": 3,
     "metadata": {},
     "output_type": "execute_result"
    }
   ],
   "source": [
    "# Add name, color, breed, legs, age to the dog dictionary\n",
    "dog ={'name': 'jimmy', 'color':'brown', 'breed':'labor', 'legs': 4, 'age': 5}\n",
    "dog"
   ]
  },
  {
   "cell_type": "code",
   "execution_count": 4,
   "metadata": {},
   "outputs": [
    {
     "data": {
      "text/plain": [
       "{'first_name': 'jake',\n",
       " 'last_name': 'sully',\n",
       " 'gender': 'male',\n",
       " 'age': 25,\n",
       " 'marital_status': 'not yet',\n",
       " 'skills': ['java', 'sql', 'python'],\n",
       " 'country': 'usa',\n",
       " 'city': 'newyork',\n",
       " 'address': {'street': 'lincoln colony', 'd.no': '651-531/2a'}}"
      ]
     },
     "execution_count": 4,
     "metadata": {},
     "output_type": "execute_result"
    }
   ],
   "source": [
    "# Create a student dictionary and add first_name, last_name, gender, age, marital status, skills, country, city and address as keys for the dictionary\n",
    "student = {\n",
    "    'first_name': 'jake',\n",
    "    'last_name': 'sully',\n",
    "    'gender':'male',\n",
    "    'age': 25,\n",
    "    'marital_status': 'not yet',\n",
    "    'skills': ['java', 'sql', 'python'],\n",
    "    'country': 'usa',\n",
    "    'city': 'newyork',\n",
    "    'address':{'street': 'lincoln colony', 'd.no': '651-531/2a'}\n",
    "}\n",
    "student"
   ]
  },
  {
   "cell_type": "code",
   "execution_count": 5,
   "metadata": {},
   "outputs": [
    {
     "data": {
      "text/plain": [
       "9"
      ]
     },
     "execution_count": 5,
     "metadata": {},
     "output_type": "execute_result"
    }
   ],
   "source": [
    "# Get the length of the student dictionary\n",
    "len(student)"
   ]
  },
  {
   "cell_type": "code",
   "execution_count": 6,
   "metadata": {},
   "outputs": [
    {
     "data": {
      "text/plain": [
       "['java', 'sql', 'python']"
      ]
     },
     "execution_count": 6,
     "metadata": {},
     "output_type": "execute_result"
    }
   ],
   "source": [
    "# Get the value of skills and check the data type, it should be a list\n",
    "student['skills']"
   ]
  },
  {
   "cell_type": "code",
   "execution_count": 7,
   "metadata": {},
   "outputs": [
    {
     "data": {
      "text/plain": [
       "['java', 'sql', 'python', 'php', 'database']"
      ]
     },
     "execution_count": 7,
     "metadata": {},
     "output_type": "execute_result"
    }
   ],
   "source": [
    "# Modify the skills values by adding one or two skills\n",
    "student['skills'].extend(['php','database'])\n",
    "student['skills']"
   ]
  },
  {
   "cell_type": "code",
   "execution_count": 9,
   "metadata": {},
   "outputs": [
    {
     "data": {
      "text/plain": [
       "['first_name',\n",
       " 'last_name',\n",
       " 'gender',\n",
       " 'age',\n",
       " 'marital_status',\n",
       " 'skills',\n",
       " 'country',\n",
       " 'city',\n",
       " 'address']"
      ]
     },
     "execution_count": 9,
     "metadata": {},
     "output_type": "execute_result"
    }
   ],
   "source": [
    "# Get the dictionary keys as a list\n",
    "list(student.keys())"
   ]
  },
  {
   "cell_type": "code",
   "execution_count": 10,
   "metadata": {},
   "outputs": [
    {
     "data": {
      "text/plain": [
       "['jake',\n",
       " 'sully',\n",
       " 'male',\n",
       " 25,\n",
       " 'not yet',\n",
       " ['java', 'sql', 'python', 'php', 'database'],\n",
       " 'usa',\n",
       " 'newyork',\n",
       " {'street': 'lincoln colony', 'd.no': '651-531/2a'}]"
      ]
     },
     "execution_count": 10,
     "metadata": {},
     "output_type": "execute_result"
    }
   ],
   "source": [
    "# Get the dictionary values as a list\n",
    "list(student.values())"
   ]
  },
  {
   "cell_type": "code",
   "execution_count": 12,
   "metadata": {},
   "outputs": [
    {
     "data": {
      "text/plain": [
       "(('first_name', 'jake'),\n",
       " ('last_name', 'sully'),\n",
       " ('gender', 'male'),\n",
       " ('age', 25),\n",
       " ('marital_status', 'not yet'),\n",
       " ('skills', ['java', 'sql', 'python', 'php', 'database']),\n",
       " ('country', 'usa'),\n",
       " ('city', 'newyork'),\n",
       " ('address', {'street': 'lincoln colony', 'd.no': '651-531/2a'}))"
      ]
     },
     "execution_count": 12,
     "metadata": {},
     "output_type": "execute_result"
    }
   ],
   "source": [
    "# Change the dictionary to a list of tuples using items() method\n",
    "tuple(student.items())"
   ]
  },
  {
   "cell_type": "code",
   "execution_count": 13,
   "metadata": {},
   "outputs": [
    {
     "data": {
      "text/plain": [
       "25"
      ]
     },
     "execution_count": 13,
     "metadata": {},
     "output_type": "execute_result"
    }
   ],
   "source": [
    "# Delete one of the items in the dictionary\n",
    "student.pop('age')"
   ]
  },
  {
   "cell_type": "code",
   "execution_count": 14,
   "metadata": {},
   "outputs": [
    {
     "data": {
      "text/plain": [
       "{'first_name': 'jake',\n",
       " 'last_name': 'sully',\n",
       " 'gender': 'male',\n",
       " 'marital_status': 'not yet',\n",
       " 'skills': ['java', 'sql', 'python', 'php', 'database'],\n",
       " 'country': 'usa',\n",
       " 'city': 'newyork',\n",
       " 'address': {'street': 'lincoln colony', 'd.no': '651-531/2a'}}"
      ]
     },
     "execution_count": 14,
     "metadata": {},
     "output_type": "execute_result"
    }
   ],
   "source": [
    "student"
   ]
  },
  {
   "cell_type": "code",
   "execution_count": 15,
   "metadata": {},
   "outputs": [
    {
     "data": {
      "text/plain": [
       "('address', {'street': 'lincoln colony', 'd.no': '651-531/2a'})"
      ]
     },
     "execution_count": 15,
     "metadata": {},
     "output_type": "execute_result"
    }
   ],
   "source": [
    "# Delete one of the dictionaries\n",
    "student.popitem()"
   ]
  },
  {
   "cell_type": "code",
   "execution_count": 16,
   "metadata": {},
   "outputs": [
    {
     "data": {
      "text/plain": [
       "{'first_name': 'jake',\n",
       " 'last_name': 'sully',\n",
       " 'gender': 'male',\n",
       " 'marital_status': 'not yet',\n",
       " 'skills': ['java', 'sql', 'python', 'php', 'database'],\n",
       " 'country': 'usa',\n",
       " 'city': 'newyork'}"
      ]
     },
     "execution_count": 16,
     "metadata": {},
     "output_type": "execute_result"
    }
   ],
   "source": [
    "student"
   ]
  },
  {
   "cell_type": "code",
   "execution_count": 17,
   "metadata": {},
   "outputs": [],
   "source": [
    "# Delete student dictionary\n",
    "del student"
   ]
  }
 ],
 "metadata": {
  "kernelspec": {
   "display_name": "Python 3",
   "language": "python",
   "name": "python3"
  },
  "language_info": {
   "codemirror_mode": {
    "name": "ipython",
    "version": 3
   },
   "file_extension": ".py",
   "mimetype": "text/x-python",
   "name": "python",
   "nbconvert_exporter": "python",
   "pygments_lexer": "ipython3",
   "version": "3.7.6"
  }
 },
 "nbformat": 4,
 "nbformat_minor": 4
}
