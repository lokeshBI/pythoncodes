{
 "cells": [
  {
   "cell_type": "markdown",
   "metadata": {},
   "source": [
    "### Day 9 assignment"
   ]
  },
  {
   "cell_type": "code",
   "execution_count": 1,
   "metadata": {},
   "outputs": [
    {
     "name": "stdout",
     "output_type": "stream",
     "text": [
      "enter your age: 15\n",
      "you need 3 more years to drive!\n"
     ]
    }
   ],
   "source": [
    "age = int(input('enter your age: '))\n",
    "if age >= 18:\n",
    "    print('You are old enough to drive')\n",
    "else:\n",
    "    print('you need {} more years to drive!'.format(18-age))"
   ]
  },
  {
   "cell_type": "code",
   "execution_count": 2,
   "metadata": {},
   "outputs": [
    {
     "name": "stdout",
     "output_type": "stream",
     "text": [
      "enter first number: 15\n",
      "enter second number: 58\n",
      "15 is less than 58\n"
     ]
    }
   ],
   "source": [
    "first_number = int(input('enter first number: '))\n",
    "second_number = int(input('enter second number: '))\n",
    "if first_number > second_number:\n",
    "    print('{} is greater than {}'.format(first_number, second_number))\n",
    "elif first_number == second_number:\n",
    "    print('{} is equal to {}'.format(first_number, second_number))\n",
    "else:\n",
    "    print('{} is less than {}'.format(first_number, second_number))"
   ]
  },
  {
   "cell_type": "code",
   "execution_count": 3,
   "metadata": {},
   "outputs": [
    {
     "name": "stdout",
     "output_type": "stream",
     "text": [
      "enter marks: 67\n",
      "C\n"
     ]
    }
   ],
   "source": [
    "# 80-100, A\n",
    "# 70-89, B\n",
    "# 60-69, C\n",
    "# 50-59, D\n",
    "# 0-49, F\n",
    "\n",
    "marks = int(input('enter marks: '))\n",
    "if marks>=0 and marks <=49:\n",
    "    print('F')\n",
    "elif marks >= 50 and marks <= 59:\n",
    "    print('D')\n",
    "elif marks >= 60 and marks <= 69:\n",
    "    print('C')\n",
    "elif marks >= 70 and marks <= 89:\n",
    "    print('B') \n",
    "else:\n",
    "    print('A')"
   ]
  },
  {
   "cell_type": "code",
   "execution_count": 4,
   "metadata": {},
   "outputs": [
    {
     "name": "stdout",
     "output_type": "stream",
     "text": [
      "enter month: May\n",
      "Spring\n"
     ]
    }
   ],
   "source": [
    "# September, October or November, the season is Autumn.\n",
    "# December, January or February, the season is Winter. \n",
    "# March, April or May, the season is Spring \n",
    "# June, July or August, the season is Summer\n",
    "\n",
    "month = input('enter month: ')\n",
    "if month in ['September', 'October', 'November']:\n",
    "    print('Autumn')\n",
    "elif month in ['December', 'January', 'February']:\n",
    "    print('Winter')\n",
    "elif month in ['March', 'April', 'May']:\n",
    "    print('Spring')\n",
    "else:\n",
    "    print('Summer')"
   ]
  },
  {
   "cell_type": "code",
   "execution_count": 5,
   "metadata": {},
   "outputs": [
    {
     "name": "stdout",
     "output_type": "stream",
     "text": [
      "enter fruit :apple\n",
      "new fruits list ['banana', 'orange', 'mango', 'lemon', 'apple']\n"
     ]
    }
   ],
   "source": [
    "fruits = ['banana', 'orange', 'mango', 'lemon']\n",
    "\n",
    "fruit = input('enter fruit :')\n",
    "if fruit in fruits:\n",
    "    print('This is available in the list')\n",
    "else:\n",
    "    fruits.append(fruit)\n",
    "    print('new fruits list {}'.format(fruits))"
   ]
  },
  {
   "cell_type": "markdown",
   "metadata": {},
   "source": [
    "### Day 10 assignment"
   ]
  },
  {
   "cell_type": "code",
   "execution_count": 6,
   "metadata": {},
   "outputs": [
    {
     "name": "stdout",
     "output_type": "stream",
     "text": [
      "0\n",
      "1\n",
      "2\n",
      "3\n",
      "4\n",
      "5\n",
      "6\n",
      "7\n",
      "8\n",
      "9\n",
      "10\n"
     ]
    }
   ],
   "source": [
    "for i in range(11):\n",
    "    print(i)"
   ]
  },
  {
   "cell_type": "code",
   "execution_count": 7,
   "metadata": {},
   "outputs": [
    {
     "name": "stdout",
     "output_type": "stream",
     "text": [
      "0\n",
      "1\n",
      "2\n",
      "3\n",
      "4\n",
      "5\n",
      "6\n",
      "7\n",
      "8\n",
      "9\n",
      "10\n"
     ]
    }
   ],
   "source": [
    "cnt = 0\n",
    "while cnt < 11:\n",
    "    print(cnt)\n",
    "    cnt+=1"
   ]
  },
  {
   "cell_type": "code",
   "execution_count": 19,
   "metadata": {},
   "outputs": [
    {
     "name": "stdout",
     "output_type": "stream",
     "text": [
      "10\n",
      "9\n",
      "8\n",
      "7\n",
      "6\n",
      "5\n",
      "4\n",
      "3\n",
      "2\n",
      "1\n",
      "0\n"
     ]
    }
   ],
   "source": [
    "cnt = 10\n",
    "while cnt >= 0:\n",
    "    print(cnt)\n",
    "    cnt-=1"
   ]
  },
  {
   "cell_type": "code",
   "execution_count": 28,
   "metadata": {},
   "outputs": [
    {
     "name": "stdout",
     "output_type": "stream",
     "text": [
      "10\n",
      "9\n",
      "8\n",
      "7\n",
      "6\n",
      "5\n",
      "4\n",
      "3\n",
      "2\n",
      "1\n",
      "0\n"
     ]
    }
   ],
   "source": [
    "for i in range(10,-1,-1):\n",
    "    print(i)"
   ]
  },
  {
   "cell_type": "code",
   "execution_count": 33,
   "metadata": {},
   "outputs": [
    {
     "name": "stdout",
     "output_type": "stream",
     "text": [
      "\n",
      "#\n",
      "##\n",
      "###\n",
      "####\n",
      "#####\n",
      "######\n",
      "#######\n"
     ]
    }
   ],
   "source": [
    "for i in range(8):\n",
    "    print('#'*i)"
   ]
  },
  {
   "cell_type": "code",
   "execution_count": 35,
   "metadata": {},
   "outputs": [
    {
     "name": "stdout",
     "output_type": "stream",
     "text": [
      "0 x 0 = 0\n",
      "1 x 1 = 1\n",
      "2 x 2 = 4\n",
      "3 x 3 = 9\n",
      "4 x 4 = 16\n",
      "5 x 5 = 25\n",
      "6 x 6 = 36\n",
      "7 x 7 = 49\n",
      "8 x 8 = 64\n",
      "9 x 9 = 81\n",
      "10 x 10 = 100\n"
     ]
    }
   ],
   "source": [
    "for i in range(11):\n",
    "    print('{} x {} = {}'.format(i,i, i**2))"
   ]
  },
  {
   "cell_type": "code",
   "execution_count": 44,
   "metadata": {},
   "outputs": [
    {
     "name": "stdout",
     "output_type": "stream",
     "text": [
      "Python\n",
      "Numpy\n",
      "Pandas\n",
      "Django\n",
      "Flask\n"
     ]
    }
   ],
   "source": [
    "items = ['Python', 'Numpy','Pandas','Django', 'Flask']\n",
    "for i in items:\n",
    "    print(i)"
   ]
  },
  {
   "cell_type": "code",
   "execution_count": 47,
   "metadata": {},
   "outputs": [
    {
     "name": "stdout",
     "output_type": "stream",
     "text": [
      "0\n",
      "2\n",
      "4\n",
      "6\n",
      "8\n",
      "10\n",
      "12\n",
      "14\n",
      "16\n",
      "18\n",
      "20\n",
      "22\n",
      "24\n",
      "26\n",
      "28\n",
      "30\n",
      "32\n",
      "34\n",
      "36\n",
      "38\n",
      "40\n",
      "42\n",
      "44\n",
      "46\n",
      "48\n",
      "50\n",
      "52\n",
      "54\n",
      "56\n",
      "58\n",
      "60\n",
      "62\n",
      "64\n",
      "66\n",
      "68\n",
      "70\n",
      "72\n",
      "74\n",
      "76\n",
      "78\n",
      "80\n",
      "82\n",
      "84\n",
      "86\n",
      "88\n",
      "90\n",
      "92\n",
      "94\n",
      "96\n",
      "98\n",
      "100\n"
     ]
    }
   ],
   "source": [
    "# Use for loop to iterate from 0 to 100 and print only even numbers\n",
    "for i in range(101): \n",
    "    if i%2 == 0:\n",
    "        print(i)"
   ]
  },
  {
   "cell_type": "code",
   "execution_count": 48,
   "metadata": {},
   "outputs": [
    {
     "name": "stdout",
     "output_type": "stream",
     "text": [
      "1\n",
      "3\n",
      "5\n",
      "7\n",
      "9\n",
      "11\n",
      "13\n",
      "15\n",
      "17\n",
      "19\n",
      "21\n",
      "23\n",
      "25\n",
      "27\n",
      "29\n",
      "31\n",
      "33\n",
      "35\n",
      "37\n",
      "39\n",
      "41\n",
      "43\n",
      "45\n",
      "47\n",
      "49\n",
      "51\n",
      "53\n",
      "55\n",
      "57\n",
      "59\n",
      "61\n",
      "63\n",
      "65\n",
      "67\n",
      "69\n",
      "71\n",
      "73\n",
      "75\n",
      "77\n",
      "79\n",
      "81\n",
      "83\n",
      "85\n",
      "87\n",
      "89\n",
      "91\n",
      "93\n",
      "95\n",
      "97\n",
      "99\n"
     ]
    }
   ],
   "source": [
    "# Use for loop to iterate from 0 to 100 and print only odd numbers\n",
    "for i in range(101):\n",
    "    if i%2 != 0:\n",
    "        print(i)"
   ]
  },
  {
   "cell_type": "code",
   "execution_count": 51,
   "metadata": {},
   "outputs": [
    {
     "name": "stdout",
     "output_type": "stream",
     "text": [
      "total sum of numbers 5050\n"
     ]
    }
   ],
   "source": [
    "# Use for loop to iterate from 0 to 100 and print the sum of all numbers.\n",
    "sum = 0\n",
    "for i in range(101):\n",
    "    sum = sum + i\n",
    "print('total sum of numbers %d' %(sum))"
   ]
  },
  {
   "cell_type": "code",
   "execution_count": 52,
   "metadata": {},
   "outputs": [
    {
     "name": "stdout",
     "output_type": "stream",
     "text": [
      "sum of even numbers 2550, sum of odd numbers 2500\n"
     ]
    }
   ],
   "source": [
    "# Use for loop to iterate from 0 to 100 and print the sum of all evens and the sum of all odds.\n",
    "sum_e = 0\n",
    "sum_od = 0\n",
    "\n",
    "for i in range(101):\n",
    "    if i % 2 == 0:\n",
    "        sum_e = sum_e + i\n",
    "    else:\n",
    "        sum_od = sum_od + i\n",
    "print('sum of even numbers %d, sum of odd numbers %d' %(sum_e, sum_od))        "
   ]
  },
  {
   "cell_type": "code",
   "execution_count": 55,
   "metadata": {},
   "outputs": [
    {
     "name": "stdout",
     "output_type": "stream",
     "text": [
      "lemon\n",
      "mango\n",
      "orange\n",
      "banana\n"
     ]
    }
   ],
   "source": [
    "# This is a fruit list, ['banana', 'orange', 'mango', 'lemon'] reverse the order using loop.\n",
    "for i in  reversed(['banana', 'orange', 'mango', 'lemon']):\n",
    "    print(i)"
   ]
  },
  {
   "cell_type": "markdown",
   "metadata": {},
   "source": [
    "### Day 11"
   ]
  },
  {
   "cell_type": "code",
   "execution_count": 6,
   "metadata": {},
   "outputs": [
    {
     "data": {
      "text/plain": [
       "25"
      ]
     },
     "execution_count": 6,
     "metadata": {},
     "output_type": "execute_result"
    }
   ],
   "source": [
    "# Declare a function add_two_numbers. It takes two parameters and it returns a sum.\n",
    "def add_two_numbers ( num_one,  num_two):\n",
    "    total = num_one + num_two\n",
    "    return total\n",
    "\n",
    "add_two_numbers(10,15)"
   ]
  },
  {
   "cell_type": "code",
   "execution_count": 8,
   "metadata": {},
   "outputs": [
    {
     "data": {
      "text/plain": [
       "12.566370614359172"
      ]
     },
     "execution_count": 8,
     "metadata": {},
     "output_type": "execute_result"
    }
   ],
   "source": [
    "# Area of a circle is calculated as follows: area = π x r x r. Write a function that calculates area_of_circle.\n",
    "import math\n",
    "\n",
    "def area_of_circle(r):\n",
    "    area = math.pi * r * r\n",
    "    return area\n",
    "\n",
    "area_of_circle(2)"
   ]
  },
  {
   "cell_type": "code",
   "execution_count": 68,
   "metadata": {},
   "outputs": [],
   "source": [
    "# Write a function called add_all_nums which takes arbitrary number of arguments and sums all the arguments.\n",
    "# Check if all the list items are number types. If not do give a reasonable feedback.\n",
    "\n",
    "# all(isinstance(x, int) for x in arg)\n",
    "\n",
    "def get_totals(*arg):\n",
    "    if all(isinstance(x, int) for x in arg) == False:\n",
    "        print('please pass integer values only')   \n",
    "    else: \n",
    "        totals = 0\n",
    "        for i in arg:\n",
    "            totals+= i  \n",
    "        return totals   \n",
    "    \n"
   ]
  },
  {
   "cell_type": "code",
   "execution_count": 71,
   "metadata": {},
   "outputs": [
    {
     "data": {
      "text/plain": [
       "70"
      ]
     },
     "execution_count": 71,
     "metadata": {},
     "output_type": "execute_result"
    }
   ],
   "source": [
    "get_totals(10,20,40)"
   ]
  },
  {
   "cell_type": "code",
   "execution_count": 72,
   "metadata": {},
   "outputs": [
    {
     "name": "stdout",
     "output_type": "stream",
     "text": [
      "please pass integer values only\n"
     ]
    }
   ],
   "source": [
    "get_totals(10,'a',40)"
   ]
  },
  {
   "cell_type": "code",
   "execution_count": 73,
   "metadata": {},
   "outputs": [
    {
     "data": {
      "text/plain": [
       "113.0"
      ]
     },
     "execution_count": 73,
     "metadata": {},
     "output_type": "execute_result"
    }
   ],
   "source": [
    "# Temperature in °C can be converted to °F using this formula: °F = (°C x 9/5) + 32.\n",
    "# Write a function which converts °C to °F, convert_celcius_to-fahrenheit.\n",
    "\n",
    "def c_to_F(centi):\n",
    "    f = (centi * (9/5)) + 32\n",
    "    return f\n",
    "\n",
    "c_to_F(45)"
   ]
  },
  {
   "cell_type": "code",
   "execution_count": 78,
   "metadata": {},
   "outputs": [
    {
     "name": "stdout",
     "output_type": "stream",
     "text": [
      "Summer\n"
     ]
    }
   ],
   "source": [
    "# Write a function called check-season, it takes a month parameter and returns the season: Autumn, Winter, Spring or Summer.\n",
    "def get_season(month):\n",
    "    if month in ['September', 'October', 'November']:\n",
    "        print('Autumn')\n",
    "    elif month in ['December', 'January', 'February']:\n",
    "        print('Winter')\n",
    "    elif month in ['March', 'April', 'May']:\n",
    "        print('Spring')\n",
    "    else:\n",
    "        print('Summer')\n",
    "        \n",
    "get_season('June')        "
   ]
  },
  {
   "cell_type": "code",
   "execution_count": 81,
   "metadata": {},
   "outputs": [
    {
     "data": {
      "text/plain": [
       "(-34.14213562373095, -5.857864376269049)"
      ]
     },
     "execution_count": 81,
     "metadata": {},
     "output_type": "execute_result"
    }
   ],
   "source": [
    "# Quadratic equation is calculated as follows: ax² + bx + c = 0. Write a function which calculates solution set of a quadratic equation, solve_quadratic_eqn.\n",
    "# sol : -b +- sqrt(b**2 - 4ac) / 2a\n",
    "\n",
    "def solve_quadratic_eqn(a,b,c):\n",
    "    d = (b**2)- (4*a*c)\n",
    "    sol1 = -b - (math.sqrt(d))\n",
    "    sol2 = -b + (math.sqrt(d))\n",
    "    return sol1, sol2\n",
    "\n",
    "solve_quadratic_eqn(10,20,5)\n"
   ]
  },
  {
   "cell_type": "code",
   "execution_count": 84,
   "metadata": {},
   "outputs": [
    {
     "data": {
      "text/plain": [
       "0.5"
      ]
     },
     "execution_count": 84,
     "metadata": {},
     "output_type": "execute_result"
    }
   ],
   "source": [
    "# Write a function called calculate_slope which return the slope of a linear equation\n",
    "def calculate_slope(x1,y1,x2,y2):\n",
    "    return float (y2-y1)/ (x2-x1)\n",
    "\n",
    "calculate_slope(10,5,20,10)"
   ]
  },
  {
   "cell_type": "code",
   "execution_count": 91,
   "metadata": {},
   "outputs": [
    {
     "name": "stdout",
     "output_type": "stream",
     "text": [
      "10\n",
      "20\n",
      "apple\n",
      "True\n"
     ]
    }
   ],
   "source": [
    "# Declare a function named print_list. It takes a list as a parameter and it prints out each element of the list.\n",
    "\n",
    "def print_list(arg):\n",
    "    for i in arg:\n",
    "        print( i)\n",
    "\n",
    "print_list([10,20,'apple', True])    "
   ]
  },
  {
   "cell_type": "code",
   "execution_count": 132,
   "metadata": {},
   "outputs": [],
   "source": [
    "# Declare a function named reverse_list. It takes an array as a parameter and it returns the reverse of the array\n",
    "def reverse_list(items_list):\n",
    "    return items_list[::-1]       "
   ]
  },
  {
   "cell_type": "code",
   "execution_count": 133,
   "metadata": {},
   "outputs": [
    {
     "data": {
      "text/plain": [
       "[30, 20, 10]"
      ]
     },
     "execution_count": 133,
     "metadata": {},
     "output_type": "execute_result"
    }
   ],
   "source": [
    "reverse_list([10,20,30])"
   ]
  },
  {
   "cell_type": "code",
   "execution_count": 136,
   "metadata": {},
   "outputs": [
    {
     "data": {
      "text/plain": [
       "['Apple', 'Banana']"
      ]
     },
     "execution_count": 136,
     "metadata": {},
     "output_type": "execute_result"
    }
   ],
   "source": [
    "# Declare a function named capitalize_list_items. It takes a list as a parameter and it returns a capitalized list of items\n",
    "def capitalize_list_items(items):\n",
    "    a = []\n",
    "    for i in items:\n",
    "        j = i.capitalize()\n",
    "        a.append(j)\n",
    "    return a    \n",
    "\n",
    "capitalize_list_items(['apple', 'banana'])"
   ]
  },
  {
   "cell_type": "code",
   "execution_count": 138,
   "metadata": {},
   "outputs": [
    {
     "data": {
      "text/plain": [
       "['apple', 'banana', 'mango']"
      ]
     },
     "execution_count": 138,
     "metadata": {},
     "output_type": "execute_result"
    }
   ],
   "source": [
    "# Declare a function named add_item. It takes a list and an item parameters. It returns a list with the item added at the end.\n",
    "\n",
    "def add_item(items, add_item):\n",
    "    items.append(add_item)\n",
    "    return items\n",
    "\n",
    "add_item(['apple', 'banana'], 'mango')"
   ]
  },
  {
   "cell_type": "code",
   "execution_count": 140,
   "metadata": {},
   "outputs": [
    {
     "data": {
      "text/plain": [
       "['apple']"
      ]
     },
     "execution_count": 140,
     "metadata": {},
     "output_type": "execute_result"
    }
   ],
   "source": [
    "# Declare a function named remove_item. It takes a list and an item parameters. It returns a list with the item removed from it.\n",
    "def remove_item(items, remove_item):\n",
    "    items.remove(remove_item)\n",
    "    return items\n",
    "\n",
    "remove_item(['apple', 'banana'], 'banana')\n"
   ]
  },
  {
   "cell_type": "code",
   "execution_count": 141,
   "metadata": {},
   "outputs": [
    {
     "data": {
      "text/plain": [
       "5050"
      ]
     },
     "execution_count": 141,
     "metadata": {},
     "output_type": "execute_result"
    }
   ],
   "source": [
    "# Declare a function named sum_of_numbers. It takes a number parameter and it adds all the numbers in that range.\n",
    "\n",
    "def sum_of_numbers(n):\n",
    "    total = 0\n",
    "    for i in range(n+1):\n",
    "        total+= i\n",
    "    return total\n",
    "\n",
    "sum_of_numbers(100)"
   ]
  },
  {
   "cell_type": "code",
   "execution_count": 144,
   "metadata": {},
   "outputs": [],
   "source": [
    "# Declare a function named sum_of_odds. It takes a number parameter and it adds all the odd numbers in that range.\n",
    "# Declare a function named sum_of_even. It takes a number parameter and it adds all the even numbers in that - range.\n",
    "\n",
    "def sum_of_odds(n):\n",
    "    total = 0\n",
    "    for i in range(n+1):\n",
    "        if i % 2 != 0:\n",
    "            total+= i\n",
    "    return total\n",
    "\n",
    "def sum_of_evens(n):\n",
    "    total = 0\n",
    "    for i in range(n+1):\n",
    "        if i % 2 == 0:\n",
    "            total+= i\n",
    "    return total"
   ]
  },
  {
   "cell_type": "code",
   "execution_count": 147,
   "metadata": {},
   "outputs": [
    {
     "data": {
      "text/plain": [
       "2550"
      ]
     },
     "execution_count": 147,
     "metadata": {},
     "output_type": "execute_result"
    }
   ],
   "source": [
    "sum_of_evens(100)"
   ]
  },
  {
   "cell_type": "code",
   "execution_count": 148,
   "metadata": {},
   "outputs": [
    {
     "data": {
      "text/plain": [
       "2500"
      ]
     },
     "execution_count": 148,
     "metadata": {},
     "output_type": "execute_result"
    }
   ],
   "source": [
    "sum_of_odds(100)"
   ]
  },
  {
   "cell_type": "code",
   "execution_count": 170,
   "metadata": {},
   "outputs": [
    {
     "data": {
      "text/plain": [
       "(250, 250)"
      ]
     },
     "execution_count": 170,
     "metadata": {},
     "output_type": "execute_result"
    }
   ],
   "source": [
    "# Declare a function named evens_and_odds . \n",
    "# It takes a positive integer as parameter and it counts number of evens and odds in the number.\n",
    "\n",
    "def evens_of_odds(n):\n",
    "    total = []\n",
    "    for i in range(n+1):\n",
    "        if i % 2 != 0:\n",
    "            total.append(i)\n",
    "    return len(total), n-len(total)\n",
    "\n",
    "evens_of_odds(500)"
   ]
  },
  {
   "cell_type": "code",
   "execution_count": 173,
   "metadata": {},
   "outputs": [
    {
     "data": {
      "text/plain": [
       "120"
      ]
     },
     "execution_count": 173,
     "metadata": {},
     "output_type": "execute_result"
    }
   ],
   "source": [
    "# Call your function factorial, it takes a whole number as a parameter and it return a factorial of the number\n",
    "\n",
    "def factorial(n):\n",
    "    fact = 1\n",
    "    for i in range(1,n+1):\n",
    "        fact = fact*i\n",
    "    return fact\n",
    "\n",
    "factorial(5) "
   ]
  },
  {
   "cell_type": "code",
   "execution_count": 190,
   "metadata": {},
   "outputs": [
    {
     "name": "stdout",
     "output_type": "stream",
     "text": [
      "not a prime\n"
     ]
    }
   ],
   "source": [
    "# Write a function called is_prime, which checks if a number is prime.\n",
    "\n",
    "def is_prime(n):\n",
    "    if n > 1:\n",
    "        for i in range(2, n):\n",
    "            if n % i == 0:\n",
    "                print('not a prime')\n",
    "                break\n",
    "            else:\n",
    "                print('prime')\n",
    "    else:\n",
    "        print('not a prime')\n",
    "        \n",
    "is_prime(54)        \n"
   ]
  },
  {
   "cell_type": "code",
   "execution_count": 224,
   "metadata": {},
   "outputs": [],
   "source": [
    "# Write a functions which checks if all items are unique in the list.\n",
    "\n",
    "def check_list(items):\n",
    "    if len(set(items)) == len(items):\n",
    "        print('list is unique')\n",
    "    else:\n",
    "        print('not unique')"
   ]
  },
  {
   "cell_type": "code",
   "execution_count": 225,
   "metadata": {},
   "outputs": [
    {
     "name": "stdout",
     "output_type": "stream",
     "text": [
      "not unique\n"
     ]
    }
   ],
   "source": [
    "check_list([10,20,50,10,20])"
   ]
  },
  {
   "cell_type": "code",
   "execution_count": 226,
   "metadata": {},
   "outputs": [
    {
     "name": "stdout",
     "output_type": "stream",
     "text": [
      "list is unique\n"
     ]
    }
   ],
   "source": [
    "check_list([10,20,30,40])"
   ]
  },
  {
   "cell_type": "code",
   "execution_count": 252,
   "metadata": {},
   "outputs": [],
   "source": [
    "# Write a function which checks if all the items of the list are of the same data type.\n",
    "def test_datatypes(items):\n",
    "    res = True\n",
    "    for i in items:\n",
    "        if not isinstance(i, type(items[0])):\n",
    "            res = False\n",
    "            break\n",
    "    print('same data type: {} '.format(res))        "
   ]
  },
  {
   "cell_type": "code",
   "execution_count": 253,
   "metadata": {},
   "outputs": [
    {
     "name": "stdout",
     "output_type": "stream",
     "text": [
      "same data type: False \n"
     ]
    }
   ],
   "source": [
    "test_datatypes([10,20,30,'apple'])"
   ]
  },
  {
   "cell_type": "code",
   "execution_count": 254,
   "metadata": {},
   "outputs": [
    {
     "name": "stdout",
     "output_type": "stream",
     "text": [
      "same data type: True \n"
     ]
    }
   ],
   "source": [
    "test_datatypes([10,20,30,30])     "
   ]
  },
  {
   "cell_type": "code",
   "execution_count": 80,
   "metadata": {},
   "outputs": [
    {
     "data": {
      "text/plain": [
       "5"
      ]
     },
     "execution_count": 80,
     "metadata": {},
     "output_type": "execute_result"
    }
   ],
   "source": [
    "# get min from list\n",
    "a = [10,20,5,60]\n",
    "def get_min(a):\n",
    "    mini = a[0]\n",
    "    for i in a:\n",
    "        if mini > i:\n",
    "            mini = i\n",
    "    return mini\n",
    "get_min(a)"
   ]
  },
  {
   "cell_type": "code",
   "execution_count": 81,
   "metadata": {},
   "outputs": [
    {
     "data": {
      "text/plain": [
       "60"
      ]
     },
     "execution_count": 81,
     "metadata": {},
     "output_type": "execute_result"
    }
   ],
   "source": [
    "# get max from list\n",
    "a = [10,20,5,60]\n",
    "def get_max(a):\n",
    "    maxi = a[0]\n",
    "    for i in a:\n",
    "        if maxi < i:\n",
    "            maxi = i\n",
    "    return maxi\n",
    "get_max(a)"
   ]
  },
  {
   "cell_type": "markdown",
   "metadata": {},
   "source": [
    "### Day 12 modules"
   ]
  },
  {
   "cell_type": "code",
   "execution_count": 276,
   "metadata": {},
   "outputs": [
    {
     "data": {
      "text/plain": [
       "'abcdefghijklmnopqrstuvwxyzABCDEFGHIJKLMNOPQRSTUVWXYZ'"
      ]
     },
     "execution_count": 276,
     "metadata": {},
     "output_type": "execute_result"
    }
   ],
   "source": [
    "import string\n",
    "string.ascii_letters"
   ]
  },
  {
   "cell_type": "code",
   "execution_count": 277,
   "metadata": {},
   "outputs": [
    {
     "data": {
      "text/plain": [
       "'abcdefghijklmnopqrstuvwxyz'"
      ]
     },
     "execution_count": 277,
     "metadata": {},
     "output_type": "execute_result"
    }
   ],
   "source": [
    "string.ascii_lowercase"
   ]
  },
  {
   "cell_type": "code",
   "execution_count": 278,
   "metadata": {},
   "outputs": [
    {
     "data": {
      "text/plain": [
       "'ABCDEFGHIJKLMNOPQRSTUVWXYZ'"
      ]
     },
     "execution_count": 278,
     "metadata": {},
     "output_type": "execute_result"
    }
   ],
   "source": [
    "string.ascii_uppercase"
   ]
  },
  {
   "cell_type": "code",
   "execution_count": 279,
   "metadata": {},
   "outputs": [
    {
     "data": {
      "text/plain": [
       "'!\"#$%&\\'()*+,-./:;<=>?@[\\\\]^_`{|}~'"
      ]
     },
     "execution_count": 279,
     "metadata": {},
     "output_type": "execute_result"
    }
   ],
   "source": [
    "string.punctuation"
   ]
  },
  {
   "cell_type": "code",
   "execution_count": 280,
   "metadata": {},
   "outputs": [
    {
     "data": {
      "text/plain": [
       "'0123456789'"
      ]
     },
     "execution_count": 280,
     "metadata": {},
     "output_type": "execute_result"
    }
   ],
   "source": [
    "string.digits"
   ]
  },
  {
   "cell_type": "code",
   "execution_count": 281,
   "metadata": {},
   "outputs": [
    {
     "name": "stdout",
     "output_type": "stream",
     "text": [
      "0.6323179591716729\n",
      "21\n"
     ]
    }
   ],
   "source": [
    "from random import random, randint\n",
    "print(random())\n",
    "print(randint(2,50))"
   ]
  },
  {
   "cell_type": "markdown",
   "metadata": {},
   "source": [
    "### Day 13 List Comprehensions"
   ]
  },
  {
   "cell_type": "code",
   "execution_count": 282,
   "metadata": {},
   "outputs": [
    {
     "data": {
      "text/plain": [
       "[-4, -3, -2, -1, 0]"
      ]
     },
     "execution_count": 282,
     "metadata": {},
     "output_type": "execute_result"
    }
   ],
   "source": [
    "# Filter only negative and zero in the list using list comprehension\n",
    "numbers = [-4, -3, -2, -1, 0, 2, 4, 6]\n",
    "res = [i for i in numbers if i <= 0]\n",
    "res"
   ]
  },
  {
   "cell_type": "code",
   "execution_count": 284,
   "metadata": {},
   "outputs": [
    {
     "data": {
      "text/plain": [
       "[1, 2, 3, 4, 5, 6, 7, 8, 9]"
      ]
     },
     "execution_count": 284,
     "metadata": {},
     "output_type": "execute_result"
    }
   ],
   "source": [
    "# Flatten the following list of lists of lists to a one dimensional list :\n",
    "list_of_lists =[[[1, 2, 3]], [[4, 5, 6]], [[7, 8, 9]]]\n",
    "res = [z for x in list_of_lists for y in x for z in y]\n",
    "res"
   ]
  },
  {
   "cell_type": "code",
   "execution_count": 285,
   "metadata": {},
   "outputs": [
    {
     "data": {
      "text/plain": [
       "[(0, 0),\n",
       " (1, 1),\n",
       " (2, 4),\n",
       " (3, 9),\n",
       " (4, 16),\n",
       " (5, 25),\n",
       " (6, 36),\n",
       " (7, 49),\n",
       " (8, 64),\n",
       " (9, 81),\n",
       " (10, 100)]"
      ]
     },
     "execution_count": 285,
     "metadata": {},
     "output_type": "execute_result"
    }
   ],
   "source": [
    "# Using list comprehension create the following list of tuples\n",
    "[(i, i*i) for i in range(11)]"
   ]
  },
  {
   "cell_type": "code",
   "execution_count": 287,
   "metadata": {},
   "outputs": [
    {
     "data": {
      "text/plain": [
       "['Finland', 'Helsinki', 'Sweden', 'Stockholm', 'Norway', 'Oslo']"
      ]
     },
     "execution_count": 287,
     "metadata": {},
     "output_type": "execute_result"
    }
   ],
   "source": [
    "# Flatten the following list to a new list:\n",
    "countries = [[('Finland', 'Helsinki')], [('Sweden', 'Stockholm')], [('Norway', 'Oslo')]]\n",
    "\n",
    "res = [ z  for x in countries for y in x for z in y]\n",
    "res    "
   ]
  },
  {
   "cell_type": "code",
   "execution_count": 293,
   "metadata": {},
   "outputs": [
    {
     "data": {
      "text/plain": [
       "{'Finland': 'Helsinki', 'Sweden': 'Stockholm', 'Norway': 'Oslo'}"
      ]
     },
     "execution_count": 293,
     "metadata": {},
     "output_type": "execute_result"
    }
   ],
   "source": [
    "# Change the following list to a list of dictionaries:\n",
    "\n",
    "countries = [[('Finland', 'Helsinki')], [('Sweden', 'Stockholm')], [('Norway', 'Oslo')]]\n",
    "\n",
    "dict([y for x in countries for y in x ])"
   ]
  },
  {
   "cell_type": "code",
   "execution_count": 300,
   "metadata": {},
   "outputs": [
    {
     "data": {
      "text/plain": [
       "['Asabeneh Yetaeyeh', 'David Smith', 'Donald Trump', 'Bill Gates']"
      ]
     },
     "execution_count": 300,
     "metadata": {},
     "output_type": "execute_result"
    }
   ],
   "source": [
    "# Change the following list of lists to a list of concatenated strings:\n",
    "\n",
    "names = [[('Asabeneh', 'Yetaeyeh')], [('David', 'Smith')], [('Donald', 'Trump')], [('Bill', 'Gates')]]\n",
    "\n",
    "[i+' '+j for i, j in [y for x in names for y in x ]]"
   ]
  },
  {
   "cell_type": "markdown",
   "metadata": {},
   "source": [
    "### Day 14 map(), filter()"
   ]
  },
  {
   "cell_type": "code",
   "execution_count": 305,
   "metadata": {},
   "outputs": [
    {
     "data": {
      "text/plain": [
       "['ESTONIA', 'FINLAND', 'SWEDEN', 'DENMARK', 'NORWAY', 'ICELAND']"
      ]
     },
     "execution_count": 305,
     "metadata": {},
     "output_type": "execute_result"
    }
   ],
   "source": [
    "# Use map to create a new list by changing each country to uppercase in the countries list\n",
    "countries = ['Estonia', 'Finland', 'Sweden', 'Denmark', 'Norway', 'Iceland']\n",
    "\n",
    "res = list(map(lambda x : x.upper(), countries))\n",
    "res"
   ]
  },
  {
   "cell_type": "code",
   "execution_count": 306,
   "metadata": {},
   "outputs": [
    {
     "data": {
      "text/plain": [
       "[1, 4, 9, 16, 25, 36, 49, 64, 81, 100]"
      ]
     },
     "execution_count": 306,
     "metadata": {},
     "output_type": "execute_result"
    }
   ],
   "source": [
    "# Use map to create a new list by changing each number to its square in the numbers list\n",
    "numbers = [1, 2, 3, 4, 5, 6, 7, 8, 9, 10]\n",
    "res = list(map(lambda x : x**2, numbers))\n",
    "res"
   ]
  },
  {
   "cell_type": "code",
   "execution_count": 307,
   "metadata": {},
   "outputs": [
    {
     "data": {
      "text/plain": [
       "['ASABENEH', 'LIDIYA', 'ERMIAS', 'ABRAHAM']"
      ]
     },
     "execution_count": 307,
     "metadata": {},
     "output_type": "execute_result"
    }
   ],
   "source": [
    "# Use map to change each name to uppercase in the names list\n",
    "names = ['Asabeneh', 'Lidiya', 'Ermias', 'Abraham']\n",
    "res = list(map(lambda x : x.upper(), names))\n",
    "res"
   ]
  },
  {
   "cell_type": "code",
   "execution_count": 313,
   "metadata": {},
   "outputs": [
    {
     "data": {
      "text/plain": [
       "['Finland', 'Iceland']"
      ]
     },
     "execution_count": 313,
     "metadata": {},
     "output_type": "execute_result"
    }
   ],
   "source": [
    "# Use filter to filter out countries containing 'land'.\n",
    "countries = ['Estonia', 'Finland', 'Sweden', 'Denmark', 'Norway', 'Iceland']\n",
    "\n",
    "# for i in countries:\n",
    "#     if i.endswith('land'):\n",
    "#         print(i)\n",
    "\n",
    "def get_lands(name):\n",
    "        if name.endswith('land'):\n",
    "            return True\n",
    "        return False\n",
    "    \n",
    "res = list(filter(get_lands, countries))\n",
    "res    "
   ]
  },
  {
   "cell_type": "code",
   "execution_count": 314,
   "metadata": {},
   "outputs": [
    {
     "data": {
      "text/plain": [
       "['Sweden', 'Norway']"
      ]
     },
     "execution_count": 314,
     "metadata": {},
     "output_type": "execute_result"
    }
   ],
   "source": [
    "# Use filter to filter out countries having exactly six characters.\n",
    "def get_len(name):\n",
    "        if len(name) == 6:\n",
    "            return True\n",
    "        return False\n",
    "    \n",
    "res = list(filter(get_len, countries))\n",
    "res"
   ]
  },
  {
   "cell_type": "code",
   "execution_count": 315,
   "metadata": {},
   "outputs": [
    {
     "data": {
      "text/plain": [
       "['Estonia', 'Finland', 'Sweden', 'Denmark', 'Norway', 'Iceland']"
      ]
     },
     "execution_count": 315,
     "metadata": {},
     "output_type": "execute_result"
    }
   ],
   "source": [
    "# Use filter to filter out countries containing six letters and more in the country list.\n",
    "def get_len_more6(name):\n",
    "        if len(name) >= 6:\n",
    "            return True\n",
    "        return False\n",
    "    \n",
    "res = list(filter(get_len_more6, countries))\n",
    "res"
   ]
  },
  {
   "cell_type": "code",
   "execution_count": 316,
   "metadata": {},
   "outputs": [
    {
     "data": {
      "text/plain": [
       "['Estonia']"
      ]
     },
     "execution_count": 316,
     "metadata": {},
     "output_type": "execute_result"
    }
   ],
   "source": [
    "# Use filter to filter out countries starting with an 'E'\n",
    "def get_start_E(name):\n",
    "        if name.startswith('E'):\n",
    "            return True\n",
    "        return False\n",
    "    \n",
    "res = list(filter(get_start_E, countries))\n",
    "res"
   ]
  },
  {
   "cell_type": "code",
   "execution_count": 325,
   "metadata": {},
   "outputs": [
    {
     "data": {
      "text/plain": [
       "['apple', 'banana']"
      ]
     },
     "execution_count": 325,
     "metadata": {},
     "output_type": "execute_result"
    }
   ],
   "source": [
    "# Declare a function called get_string_lists which takes a list as a parameter and then returns a list containing only string items.\n",
    "items = ['apple', 'banana',10 , 220,30]\n",
    "\n",
    "## using list comprehension\n",
    "# res = [ i for i in items if type(i) == str ]   \n",
    "# res\n",
    "\n",
    "def get_string_lists(items):\n",
    "    a = []\n",
    "    for i in items:\n",
    "        if type(i) == str:\n",
    "            a.append(i)\n",
    "    return a   \n",
    "get_string_lists(['apple', 'banana',10 , 220,30])"
   ]
  },
  {
   "cell_type": "markdown",
   "metadata": {},
   "source": [
    "### Day 16 Datetime            "
   ]
  },
  {
   "cell_type": "code",
   "execution_count": 328,
   "metadata": {},
   "outputs": [],
   "source": [
    "# getting datetime info\n",
    "from datetime import datetime"
   ]
  },
  {
   "cell_type": "code",
   "execution_count": 337,
   "metadata": {},
   "outputs": [
    {
     "name": "stdout",
     "output_type": "stream",
     "text": [
      "2020-12-17 16:25:47.456611\n",
      "date: 2020-12-17\n",
      "time: 16:25:47.456611\n",
      "year: 2020\n",
      "month: 12\n",
      "day: 17\n",
      "hours: 16\n",
      "minutes: 25\n",
      "sec: 47\n"
     ]
    }
   ],
   "source": [
    "now = datetime.now()\n",
    "print(now)\n",
    "print('date: {}'.format(now.date()))\n",
    "print('time: {}'.format(now.time()))\n",
    "print('year: {}'.format(now.year))\n",
    "print('month: {}'.format(now.month))\n",
    "print('day: {}'.format(now.day))\n",
    "print('hours: {}'.format(now.hour))\n",
    "print('minutes: {}'.format(now.minute))\n",
    "print('sec: {}'.format(now.second))"
   ]
  },
  {
   "cell_type": "code",
   "execution_count": 341,
   "metadata": {},
   "outputs": [
    {
     "name": "stdout",
     "output_type": "stream",
     "text": [
      "2020-12-17 16:34:32.488249\n",
      "12/17/2020, 16:34:32\n",
      "17/12/2020, 16:34:32\n"
     ]
    }
   ],
   "source": [
    "# Format the current date using this format: \"%m/%d/%Y, %H:%M:%S\")\n",
    "now = datetime.now()\n",
    "print(now)\n",
    "print(now.strftime(\"%m/%d/%Y, %H:%M:%S\"))\n",
    "print(now.strftime(\"%d/%m/%Y, %H:%M:%S\"))"
   ]
  },
  {
   "cell_type": "code",
   "execution_count": 350,
   "metadata": {},
   "outputs": [
    {
     "name": "stdout",
     "output_type": "stream",
     "text": [
      "2019-12-05 00:00:00\n"
     ]
    }
   ],
   "source": [
    "# Today is 5 December, 2019. Change this time string to time.\n",
    "print(datetime.strptime(\"5 December, 2019\", '%d %B, %Y'))"
   ]
  },
  {
   "cell_type": "code",
   "execution_count": 358,
   "metadata": {},
   "outputs": [
    {
     "name": "stdout",
     "output_type": "stream",
     "text": [
      "2020-12-17\n",
      "15 days, 0:00:00\n"
     ]
    }
   ],
   "source": [
    "# Calculate the time difference between now and new year\n",
    "from datetime import date\n",
    "now_t1 = datetime.now().date()\n",
    "print(now)\n",
    "new_year = date(year = 2021,month= 1,day= 1)\n",
    "print(new_year- now_t1)"
   ]
  },
  {
   "cell_type": "code",
   "execution_count": 359,
   "metadata": {},
   "outputs": [
    {
     "name": "stdout",
     "output_type": "stream",
     "text": [
      "-18613 days, 0:00:00\n"
     ]
    }
   ],
   "source": [
    "# Calculate the time difference between 1 January 1970 and now.\n",
    "t1 = datetime.now().date()\n",
    "t2 = date(1970, 1, 1)\n",
    "print(t2-t1)"
   ]
  },
  {
   "cell_type": "code",
   "execution_count": null,
   "metadata": {},
   "outputs": [],
   "source": []
  },
  {
   "cell_type": "markdown",
   "metadata": {},
   "source": [
    "### Day 17"
   ]
  },
  {
   "cell_type": "code",
   "execution_count": 2,
   "metadata": {},
   "outputs": [
    {
     "name": "stdout",
     "output_type": "stream",
     "text": [
      "you cannot concate string with number\n"
     ]
    }
   ],
   "source": [
    "try:\n",
    "    print(10+'5')\n",
    "except:\n",
    "    print('you cannot concate string with number')"
   ]
  },
  {
   "cell_type": "code",
   "execution_count": 3,
   "metadata": {},
   "outputs": [
    {
     "name": "stdin",
     "output_type": "stream",
     "text": [
      "Enter your name: lokesh\n",
      "Year you were born: 1988\n"
     ]
    },
    {
     "name": "stdout",
     "output_type": "stream",
     "text": [
      "there is something wrong with year_born\n"
     ]
    }
   ],
   "source": [
    "try:\n",
    "    name = input('Enter your name:')\n",
    "    year_born = input('Year you were born:')\n",
    "    age = 2019 - year_born\n",
    "\n",
    "    print(f'You are {name}. And your age is {age}.')\n",
    "except:\n",
    "    print('there is something wrong with year_born')"
   ]
  },
  {
   "cell_type": "code",
   "execution_count": 4,
   "metadata": {},
   "outputs": [
    {
     "name": "stdin",
     "output_type": "stream",
     "text": [
      "Enter your name: lokesh\n",
      "Year you were born: 1988\n"
     ]
    },
    {
     "name": "stdout",
     "output_type": "stream",
     "text": [
      "You are lokesh. And your age is 31.\n"
     ]
    }
   ],
   "source": [
    "try:\n",
    "    name = input('Enter your name:')\n",
    "    year_born = int(input('Year you were born:'))\n",
    "    age = 2019 - year_born\n",
    "\n",
    "    print(f'You are {name}. And your age is {age}.')\n",
    "except:\n",
    "    print('there is something wrong with year_born')"
   ]
  },
  {
   "cell_type": "code",
   "execution_count": 5,
   "metadata": {},
   "outputs": [
    {
     "name": "stdin",
     "output_type": "stream",
     "text": [
      "Enter your name: lokesh\n",
      "Year you were born: 1988\n"
     ]
    },
    {
     "name": "stdout",
     "output_type": "stream",
     "text": [
      "Type error occured\n"
     ]
    }
   ],
   "source": [
    "try:\n",
    "    name = input('Enter your name:')\n",
    "    year_born = input('Year you were born:')\n",
    "    age = 2019 - year_born\n",
    "    print(f'You are {name}. And your age is {age}.')\n",
    "except TypeError:\n",
    "    print('Type error occured')\n",
    "except ValueError:\n",
    "    print('Value error occured')\n",
    "except ZeroDivisionError:\n",
    "    print('zero division error occured')"
   ]
  },
  {
   "cell_type": "code",
   "execution_count": 7,
   "metadata": {},
   "outputs": [
    {
     "name": "stdin",
     "output_type": "stream",
     "text": [
      "Enter your name: lokesh\n",
      "Year you born: 1988\n"
     ]
    },
    {
     "name": "stdout",
     "output_type": "stream",
     "text": [
      "You are {name}. And your age is {age}.\n",
      "I usually run with the try block\n",
      "I alway run.\n"
     ]
    }
   ],
   "source": [
    "try:\n",
    "    name = input('Enter your name:')\n",
    "    year_born = input('Year you born:')\n",
    "    age = 2019 - int(year_born)\n",
    "\n",
    "    print('You are {name}. And your age is {age}.')\n",
    "except TypeError:\n",
    "    print('Type error occur')\n",
    "except ValueError:\n",
    "    print('Value error occur')\n",
    "except ZeroDivisionError:\n",
    "    print('zero division error occur')\n",
    "\n",
    "else:\n",
    "    print('I usually run with the try block')\n",
    "finally:\n",
    "    print('I alway run.')"
   ]
  },
  {
   "cell_type": "markdown",
   "metadata": {},
   "source": [
    "### Day 18"
   ]
  },
  {
   "cell_type": "code",
   "execution_count": 8,
   "metadata": {},
   "outputs": [
    {
     "data": {
      "text/plain": [
       "'Python is the most beautiful language that a human being has ever created.\\nI recommend python for a first programming language'"
      ]
     },
     "execution_count": 8,
     "metadata": {},
     "output_type": "execute_result"
    }
   ],
   "source": [
    "txt = '''Python is the most beautiful language that a human being has ever created.\n",
    "I recommend python for a first programming language'''\n",
    "txt"
   ]
  },
  {
   "cell_type": "code",
   "execution_count": 10,
   "metadata": {},
   "outputs": [
    {
     "name": "stdout",
     "output_type": "stream",
     "text": [
      "['Python', 'python']\n",
      "['Python', 'python']\n",
      "['Python', 'python']\n"
     ]
    }
   ],
   "source": [
    "import re\n",
    "# lets see different ways of getting matches\n",
    "match1 = re.findall('python', txt, re.I) # re.I  for case sensitive\n",
    "print(match1)\n",
    "match2 = re.findall('Python|python', txt)\n",
    "print(match2)\n",
    "match3 = re.findall('[pP]ython',txt)\n",
    "print(match3)"
   ]
  },
  {
   "cell_type": "code",
   "execution_count": 11,
   "metadata": {},
   "outputs": [
    {
     "data": {
      "text/plain": [
       "'Python is the most beautiful language that a human being has ever created.\\nI recommend python for a first programming language'"
      ]
     },
     "execution_count": 11,
     "metadata": {},
     "output_type": "execute_result"
    }
   ],
   "source": [
    "# replacing a substring\n",
    "txt = '''Python is the most beautiful language that a human being has ever created.\n",
    "I recommend python for a first programming language'''\n",
    "txt"
   ]
  },
  {
   "cell_type": "code",
   "execution_count": 13,
   "metadata": {},
   "outputs": [
    {
     "data": {
      "text/plain": [
       "'java is the most beautiful language that a human being has ever created.\\nI recommend java for a first programming language'"
      ]
     },
     "execution_count": 13,
     "metadata": {},
     "output_type": "execute_result"
    }
   ],
   "source": [
    "replace_sub = re.sub('[Pp]ython','java',txt, re.I)\n",
    "replace_sub"
   ]
  },
  {
   "cell_type": "code",
   "execution_count": 15,
   "metadata": {},
   "outputs": [
    {
     "data": {
      "text/plain": [
       "'I am teacher and  I love teaching.\\nThere is nothing as rewarding as educating and empowering people.\\nI found teaching more interesting than any other jobs.\\nDoes this motivate you to be a teacher?'"
      ]
     },
     "execution_count": 15,
     "metadata": {},
     "output_type": "execute_result"
    }
   ],
   "source": [
    "txt = '''%I a%m te%%a%%che%r% a%n%d %% I l%o%ve te%ach%ing.\n",
    "T%he%re i%s n%o%th%ing as r%ewarding a%s e%duc%at%i%ng a%n%d e%m%p%ow%er%ing p%e%o%ple.\n",
    "I fo%und te%a%ching m%ore i%n%t%er%%es%ting t%h%an any other %jobs.\n",
    "D%o%es thi%s m%ot%iv%a%te %y%o%u to b%e a t%e%a%cher?'''\n",
    "\n",
    "match = re.sub('%','',txt)\n",
    "match"
   ]
  },
  {
   "cell_type": "code",
   "execution_count": 16,
   "metadata": {},
   "outputs": [
    {
     "name": "stdout",
     "output_type": "stream",
     "text": [
      "['I am teacher and  I love teaching.', 'There is nothing as rewarding as educating and empowering people.', 'I found teaching more interesting than any other jobs.', 'Does this motivate you to be a teacher?']\n"
     ]
    }
   ],
   "source": [
    "txt = '''I am teacher and  I love teaching.\n",
    "There is nothing as rewarding as educating and empowering people.\n",
    "I found teaching more interesting than any other jobs.\n",
    "Does this motivate you to be a teacher?'''\n",
    "\n",
    "print(re.split('\\n', txt)) # splitting using \\n - end of line symbol"
   ]
  },
  {
   "cell_type": "code",
   "execution_count": 19,
   "metadata": {},
   "outputs": [
    {
     "data": {
      "text/plain": [
       "['I am teacher and  I love teaching.',\n",
       " 'There is nothing as rewarding as educating and empowering people.',\n",
       " 'I found teaching more interesting than any other jobs.',\n",
       " 'Does this motivate you to be a teacher?']"
      ]
     },
     "execution_count": 19,
     "metadata": {},
     "output_type": "execute_result"
    }
   ],
   "source": [
    "# another way\n",
    "txt.split('\\n')"
   ]
  },
  {
   "cell_type": "markdown",
   "metadata": {},
   "source": [
    "- **re patterns**"
   ]
  },
  {
   "cell_type": "code",
   "execution_count": 20,
   "metadata": {},
   "outputs": [
    {
     "data": {
      "text/plain": [
       "'Apple and banana are fruits. An old cliche says an apple a day a doctor way has been replaced by a banana a day keeps the doctor far far away. '"
      ]
     },
     "execution_count": 20,
     "metadata": {},
     "output_type": "execute_result"
    }
   ],
   "source": [
    "txt = 'Apple and banana are fruits. An old cliche says an apple a day a doctor way has been replaced by a banana a day keeps the doctor far far away. '\n",
    "txt"
   ]
  },
  {
   "cell_type": "code",
   "execution_count": 21,
   "metadata": {},
   "outputs": [
    {
     "name": "stdout",
     "output_type": "stream",
     "text": [
      "['Apple', 'apple']\n",
      "['Apple', 'apple']\n",
      "['Apple', 'apple']\n"
     ]
    }
   ],
   "source": [
    "pattern1 = r'apple'\n",
    "print(re.findall(pattern1, txt, re.I))\n",
    "pattern2 = r'[aA]pple'\n",
    "print(re.findall(pattern2, txt))\n",
    "pattern3 = r'apple|Apple'\n",
    "print(re.findall(pattern3, txt))"
   ]
  },
  {
   "cell_type": "markdown",
   "metadata": {},
   "source": [
    "### Day 19 File Handling"
   ]
  },
  {
   "cell_type": "code",
   "execution_count": 41,
   "metadata": {},
   "outputs": [
    {
     "name": "stdout",
     "output_type": "stream",
     "text": [
      "Hey, there!. This is Lokesh.\n",
      "Python is the most beautiful language.data science is a new ternd nowAI is the new trend. data engineering too\n"
     ]
    }
   ],
   "source": [
    "# If you use WITH method then file will close automatically once it opens otherwise every time we have to close the file once we open.\n",
    "with open('my_file.txt') as f:\n",
    "    txt = f.read()\n",
    "    print(txt)"
   ]
  },
  {
   "cell_type": "code",
   "execution_count": 42,
   "metadata": {},
   "outputs": [
    {
     "name": "stdout",
     "output_type": "stream",
     "text": [
      "Hey, there\n"
     ]
    }
   ],
   "source": [
    "with open('my_file.txt') as f:\n",
    "    txt = f.read(10)\n",
    "    print(txt)"
   ]
  },
  {
   "cell_type": "code",
   "execution_count": 43,
   "metadata": {},
   "outputs": [
    {
     "name": "stdout",
     "output_type": "stream",
     "text": [
      "Hey, there!. This is Lokesh.\n",
      "\n"
     ]
    }
   ],
   "source": [
    "with open('my_file.txt') as f:\n",
    "    txt = f.readline()\n",
    "    print(txt)"
   ]
  },
  {
   "cell_type": "code",
   "execution_count": 44,
   "metadata": {},
   "outputs": [
    {
     "name": "stdout",
     "output_type": "stream",
     "text": [
      "['Hey, there!. This is Lokesh.\\n', 'Python is the most beautiful language.data science is a new ternd nowAI is the new trend. data engineering too']\n"
     ]
    }
   ],
   "source": [
    "with open('my_file.txt') as f:\n",
    "    txt = f.readlines()\n",
    "    print(txt)"
   ]
  },
  {
   "cell_type": "code",
   "execution_count": 45,
   "metadata": {},
   "outputs": [
    {
     "name": "stdout",
     "output_type": "stream",
     "text": [
      "['Hey, there!. This is Lokesh.', 'Python is the most beautiful language.data science is a new ternd nowAI is the new trend. data engineering too']\n"
     ]
    }
   ],
   "source": [
    "with open('my_file.txt') as f:\n",
    "    txt = f.read().splitlines()\n",
    "    print(txt)"
   ]
  },
  {
   "cell_type": "code",
   "execution_count": 46,
   "metadata": {},
   "outputs": [],
   "source": [
    "with open('my_file.txt', 'a') as f:\n",
    "    f.write('data science is a new ternd now')"
   ]
  },
  {
   "cell_type": "code",
   "execution_count": 47,
   "metadata": {},
   "outputs": [
    {
     "name": "stdout",
     "output_type": "stream",
     "text": [
      "['Hey, there!. This is Lokesh.', 'Python is the most beautiful language.data science is a new ternd nowAI is the new trend. data engineering toodata science is a new ternd now']\n"
     ]
    }
   ],
   "source": [
    "with open('my_file.txt') as f:\n",
    "    txt = f.read().splitlines()\n",
    "    print(txt)"
   ]
  },
  {
   "cell_type": "code",
   "execution_count": 48,
   "metadata": {},
   "outputs": [],
   "source": [
    "with open('my_file.txt', 'w') as f:\n",
    "    f.writelines('AI is the new trend. data engineering too')"
   ]
  },
  {
   "cell_type": "code",
   "execution_count": 49,
   "metadata": {},
   "outputs": [
    {
     "name": "stdout",
     "output_type": "stream",
     "text": [
      "['AI is the new trend. data engineering too']\n"
     ]
    }
   ],
   "source": [
    "with open('my_file.txt') as f:\n",
    "    txt = f.read().splitlines()\n",
    "    print(txt)"
   ]
  },
  {
   "cell_type": "code",
   "execution_count": 50,
   "metadata": {},
   "outputs": [],
   "source": [
    "import os\n",
    "os.remove('my_file.txt')"
   ]
  },
  {
   "cell_type": "code",
   "execution_count": 53,
   "metadata": {},
   "outputs": [
    {
     "name": "stdout",
     "output_type": "stream",
     "text": [
      "NO such a file found!\n"
     ]
    }
   ],
   "source": [
    "try:\n",
    "    with open('my_file.txt') as f:\n",
    "        txt = f.read()\n",
    "        print(txt)\n",
    "except FileNotFoundError:\n",
    "    print('NO such a file found!')"
   ]
  },
  {
   "cell_type": "markdown",
   "metadata": {},
   "source": [
    "- **changing JSON into dict**"
   ]
  },
  {
   "cell_type": "code",
   "execution_count": 54,
   "metadata": {},
   "outputs": [
    {
     "data": {
      "text/plain": [
       "'{\\n    \"name\": \"Asabeneh\",\\n    \"country\": \"Finland\",\\n    \"city\": \"Helsinki\",\\n    \"skills\": [\"JavaScrip\", \"React\", \"Python\"]\\n}'"
      ]
     },
     "execution_count": 54,
     "metadata": {},
     "output_type": "execute_result"
    }
   ],
   "source": [
    "# JSON\n",
    "# it's a stringified JavaScript object.\n",
    "person_json = '''{\n",
    "    \"name\": \"Asabeneh\",\n",
    "    \"country\": \"Finland\",\n",
    "    \"city\": \"Helsinki\",\n",
    "    \"skills\": [\"JavaScrip\", \"React\", \"Python\"]\n",
    "}'''\n",
    "person_json"
   ]
  },
  {
   "cell_type": "code",
   "execution_count": 55,
   "metadata": {},
   "outputs": [],
   "source": [
    "import json"
   ]
  },
  {
   "cell_type": "code",
   "execution_count": 56,
   "metadata": {},
   "outputs": [
    {
     "data": {
      "text/plain": [
       "{'name': 'Asabeneh',\n",
       " 'country': 'Finland',\n",
       " 'city': 'Helsinki',\n",
       " 'skills': ['JavaScrip', 'React', 'Python']}"
      ]
     },
     "execution_count": 56,
     "metadata": {},
     "output_type": "execute_result"
    }
   ],
   "source": [
    "res = json.loads(person_json)\n",
    "res"
   ]
  },
  {
   "cell_type": "markdown",
   "metadata": {},
   "source": [
    "- **changing dict to JSON**    "
   ]
  },
  {
   "cell_type": "code",
   "execution_count": 60,
   "metadata": {},
   "outputs": [
    {
     "data": {
      "text/plain": [
       "'{\\n    \"name\": \"Asabeneh\",\\n    \"country\": \"Finland\",\\n    \"city\": \"Helsinki\",\\n    \"skills\": [\\n        \"JavaScrip\",\\n        \"React\",\\n        \"Python\"\\n    ]\\n}'"
      ]
     },
     "execution_count": 60,
     "metadata": {},
     "output_type": "execute_result"
    }
   ],
   "source": [
    "person_json = {\n",
    "    \"name\": \"Asabeneh\",\n",
    "    \"country\": \"Finland\",\n",
    "    \"city\": \"Helsinki\",\n",
    "    \"skills\": [\"JavaScrip\", \"React\", \"Python\"]\n",
    "}\n",
    "res = json.dumps(person_json, indent= 4)\n",
    "res"
   ]
  },
  {
   "cell_type": "markdown",
   "metadata": {},
   "source": [
    "### Day 21 Classes & Methods"
   ]
  },
  {
   "cell_type": "code",
   "execution_count": 61,
   "metadata": {},
   "outputs": [],
   "source": [
    "# class constructor\n",
    "class Person:\n",
    "    def __init__(self, firstname, lastname, age, country, city):\n",
    "        self.firstname = firstname\n",
    "        self.lastname = lastname\n",
    "        self.age = age\n",
    "        self.country = country\n",
    "        self.city = city"
   ]
  },
  {
   "cell_type": "code",
   "execution_count": 64,
   "metadata": {},
   "outputs": [
    {
     "name": "stdout",
     "output_type": "stream",
     "text": [
      "john\n",
      "kit\n",
      "25\n",
      "finland\n",
      "top\n"
     ]
    }
   ],
   "source": [
    "p = Person('john', 'kit', 25, 'finland', 'top')\n",
    "print(p.firstname)\n",
    "print(p.lastname)\n",
    "print(p.age)\n",
    "print(p.country)\n",
    "print(p.city)"
   ]
  },
  {
   "cell_type": "code",
   "execution_count": 65,
   "metadata": {},
   "outputs": [],
   "source": [
    "# object method\n",
    "class Person:\n",
    "    \n",
    "    def __init__(self, firstname, lastname, age, country, city):\n",
    "        self.firstname = firstname\n",
    "        self.lastname = lastname\n",
    "        self.age = age\n",
    "        self.country = country\n",
    "        self.city = city\n",
    "\n",
    "    def person_info(self):\n",
    "        return f'{self.firstname} {self.lastname} is {self.age} years old. He lives in {self.city}, {self.country}'"
   ]
  },
  {
   "cell_type": "code",
   "execution_count": 66,
   "metadata": {},
   "outputs": [
    {
     "data": {
      "text/plain": [
       "'Asabeneh Yetayeh is 250 years old. He lives in Helsinki, Finland'"
      ]
     },
     "execution_count": 66,
     "metadata": {},
     "output_type": "execute_result"
    }
   ],
   "source": [
    "p = Person('Asabeneh', 'Yetayeh', 250, 'Finland', 'Helsinki')\n",
    "p.person_info()"
   ]
  },
  {
   "cell_type": "code",
   "execution_count": 67,
   "metadata": {},
   "outputs": [],
   "source": [
    "# default object method\n",
    "class Person:\n",
    "    def __init__(self, firstname='Asabeneh', lastname='Yetayeh', age=250, country='Finland', city='Helsinki'):\n",
    "        self.firstname = firstname\n",
    "        self.lastname = lastname\n",
    "        self.age = age\n",
    "        self.country = country\n",
    "        self.city = city\n",
    "\n",
    "    def person_info(self):\n",
    "        return f'{self.firstname} {self.lastname} is {self.age} years old. He lives in {self.city}, {self.country}.'\n"
   ]
  },
  {
   "cell_type": "code",
   "execution_count": 70,
   "metadata": {},
   "outputs": [
    {
     "name": "stdout",
     "output_type": "stream",
     "text": [
      "Asabeneh Yetayeh is 250 years old. He lives in Helsinki, Finland.\n",
      "John Doe is 30 years old. He lives in Noman city, Nomanland.\n",
      "lokesh Yetayeh is 31 years old. He lives in Helsinki, Finland.\n"
     ]
    }
   ],
   "source": [
    "p1 = Person()\n",
    "print(p1.person_info())\n",
    "p2 = Person('John', 'Doe', 30, 'Nomanland', 'Noman city')\n",
    "print(p2.person_info())\n",
    "p3 = Person(firstname= 'lokesh', age = 31)\n",
    "print(p3.person_info())"
   ]
  },
  {
   "cell_type": "code",
   "execution_count": null,
   "metadata": {},
   "outputs": [],
   "source": []
  },
  {
   "cell_type": "code",
   "execution_count": 77,
   "metadata": {},
   "outputs": [],
   "source": [
    "class My_stats:\n",
    "    def __init__(self, items):\n",
    "        self.items = items\n",
    "        \n",
    "    def get_count(self):\n",
    "        return len(self.items)\n",
    "    \n",
    "    def get_sum(self):\n",
    "        total = 0\n",
    "        for i in self.items:\n",
    "            total+=i\n",
    "        return total \n",
    "    \n",
    "    def get_min(self):\n",
    "        mini = self.items[0]\n",
    "        for i in self.items:\n",
    "            if mini > i:\n",
    "                mini = i\n",
    "        return mini\n",
    "    \n",
    "    def get_maxi(self):\n",
    "        maxi = self.items[0]\n",
    "        for i in self.items:\n",
    "            if maxi < i:\n",
    "                maxi = i\n",
    "        return maxi \n",
    "    "
   ]
  },
  {
   "cell_type": "code",
   "execution_count": 78,
   "metadata": {},
   "outputs": [],
   "source": [
    "ages = [31, 26, 34, 37, 27, 26, 32, 32, 26, 27, 27, 24, 32, 33, 27, 25, 26, 38, 37, 31, 34, 24, 33, 29, 26]\n",
    "p = My_stats(ages)"
   ]
  },
  {
   "cell_type": "code",
   "execution_count": 79,
   "metadata": {},
   "outputs": [
    {
     "name": "stdout",
     "output_type": "stream",
     "text": [
      "counts : 25\n",
      "sum : 744\n",
      "min : 24\n",
      "max : 38\n"
     ]
    }
   ],
   "source": [
    "print('counts : {}'.format(p.get_count()))\n",
    "print('sum : {}'.format(p.get_sum()))\n",
    "print('min : {}'.format(p.get_min()))\n",
    "print('max : {}'.format(p.get_maxi()))"
   ]
  },
  {
   "cell_type": "markdown",
   "metadata": {},
   "source": [
    "### Day 24\n",
    "- **numpy**\n",
    "- Arrays support vectorised operations, while lists don’t.\n",
    "- Once an array is created, you cannot change its size. You will have to create a new array or overwrite the existing one.\n",
    "- Every array has one and only one dtype. All items in it should be of that dtype.\n",
    "- An equivalent numpy array occupies much less space than a python list of lists.\n",
    "- numpy arrays support boolean indexing."
   ]
  },
  {
   "cell_type": "code",
   "execution_count": 39,
   "metadata": {},
   "outputs": [],
   "source": [
    "import numpy as np"
   ]
  },
  {
   "cell_type": "code",
   "execution_count": 22,
   "metadata": {},
   "outputs": [],
   "source": [
    "# Arrays support vectorised operations, while lists don’t.\n",
    "def is_vectorization(a):\n",
    "    try:\n",
    "        if type(a) == list:\n",
    "            print(a+4)\n",
    "        else :\n",
    "            print('because you have passed an array, we can do vectorization.')\n",
    "            print(a+4)    \n",
    "    except TypeError:\n",
    "        print('cannot perform vectorization')   "
   ]
  },
  {
   "cell_type": "code",
   "execution_count": 23,
   "metadata": {},
   "outputs": [
    {
     "name": "stdout",
     "output_type": "stream",
     "text": [
      "cannot perform vectorization\n"
     ]
    }
   ],
   "source": [
    "is_vectorization([10,20,30])"
   ]
  },
  {
   "cell_type": "code",
   "execution_count": 24,
   "metadata": {},
   "outputs": [
    {
     "name": "stdout",
     "output_type": "stream",
     "text": [
      "because you have passed an array, we can do vectorization.\n",
      "[14 24 34]\n"
     ]
    }
   ],
   "source": [
    "is_vectorization(np.array([10,20,30]))"
   ]
  },
  {
   "cell_type": "code",
   "execution_count": 32,
   "metadata": {},
   "outputs": [
    {
     "data": {
      "image/png": "[encoded data removed]",
      "text/plain": [
       "<Figure size 432x288 with 1 Axes>"
      ]
     },
     "metadata": {
      "needs_background": "light"
     },
     "output_type": "display_data"
    }
   ],
   "source": [
    "import matplotlib.pyplot as plt\n",
    "a = np.random.normal(5,0.5,1000) # mean, st.d, samples\n",
    "plt.hist(a, bins= 20,color = 'green')\n",
    "plt.show()"
   ]
  },
  {
   "cell_type": "code",
   "execution_count": 38,
   "metadata": {},
   "outputs": [
    {
     "name": "stdout",
     "output_type": "stream",
     "text": [
      "[10 20 30 40]\n",
      "1 int32 (4,) \n",
      "\n",
      "[[1 2 3]\n",
      " [4 5 6]]\n",
      "2 int32 (2, 3) \n",
      "\n",
      "[[1 2 3]\n",
      " [4 5 6]\n",
      " [7 8 9]]\n",
      "2 int32 (3, 3) \n",
      "\n",
      "[[[ 1  2  3]\n",
      "  [ 4  5  6]\n",
      "  [ 7  8  9]]\n",
      "\n",
      " [[10 11 12]\n",
      "  [13 14 15]\n",
      "  [16 17 18]]]\n",
      "3 int32 (2, 3, 3)\n"
     ]
    }
   ],
   "source": [
    "arr1 = np.array([10,20,30,40])\n",
    "arr2 = np.array([[1,2,3],[4,5,6]])\n",
    "arr3 = np.array([[1,2,3],[4,5,6],[7,8,9]])\n",
    "arr4 = np.array([[[1,2,3],[4,5,6],[7,8,9]],[[10,11,12],[13,14,15],[16,17,18]]])\n",
    "print(arr1)\n",
    "print(arr1.ndim, arr1.dtype, arr1.shape, '\\n')\n",
    "print(arr2)\n",
    "print(arr2.ndim, arr2.dtype, arr2.shape, '\\n')\n",
    "print(arr3)\n",
    "print(arr3.ndim, arr3.dtype, arr3.shape, '\\n')\n",
    "print(arr4)\n",
    "print(arr4.ndim, arr4.dtype, arr4.shape)"
   ]
  },
  {
   "cell_type": "markdown",
   "metadata": {},
   "source": [
    "### numpy in-built funcs"
   ]
  },
  {
   "cell_type": "code",
   "execution_count": 45,
   "metadata": {},
   "outputs": [
    {
     "name": "stdout",
     "output_type": "stream",
     "text": [
      "[0. 0. 0. 0. 0. 0. 0. 0. 0. 0.] \n",
      "\n",
      "[[0. 0. 0.]\n",
      " [0. 0. 0.]] \n",
      "\n",
      "[[[0. 0. 0. 0.]\n",
      "  [0. 0. 0. 0.]\n",
      "  [0. 0. 0. 0.]]\n",
      "\n",
      " [[0. 0. 0. 0.]\n",
      "  [0. 0. 0. 0.]\n",
      "  [0. 0. 0. 0.]]] \n",
      "\n"
     ]
    }
   ],
   "source": [
    "print(np.zeros(10), '\\n')\n",
    "print(np.zeros((2,3)), '\\n')\n",
    "print(np.zeros((2,3,4)), '\\n')"
   ]
  },
  {
   "cell_type": "code",
   "execution_count": 46,
   "metadata": {},
   "outputs": [
    {
     "name": "stdout",
     "output_type": "stream",
     "text": [
      "[1. 1. 1. 1. 1. 1. 1. 1. 1. 1.] \n",
      "\n",
      "[[1. 1. 1.]\n",
      " [1. 1. 1.]] \n",
      "\n",
      "[[[1. 1. 1. 1.]\n",
      "  [1. 1. 1. 1.]\n",
      "  [1. 1. 1. 1.]]\n",
      "\n",
      " [[1. 1. 1. 1.]\n",
      "  [1. 1. 1. 1.]\n",
      "  [1. 1. 1. 1.]]] \n",
      "\n"
     ]
    }
   ],
   "source": [
    "print(np.ones(10), '\\n')\n",
    "print(np.ones((2,3)), '\\n')\n",
    "print(np.ones((2,3,4)), '\\n')"
   ]
  },
  {
   "cell_type": "code",
   "execution_count": 48,
   "metadata": {},
   "outputs": [
    {
     "name": "stdout",
     "output_type": "stream",
     "text": [
      "[[1. 0.]\n",
      " [0. 1.]] \n",
      "\n",
      "[[1. 0. 0.]\n",
      " [0. 1. 0.]\n",
      " [0. 0. 1.]] \n",
      "\n",
      "[[1. 0. 0. 0.]\n",
      " [0. 1. 0. 0.]\n",
      " [0. 0. 1. 0.]\n",
      " [0. 0. 0. 1.]] \n",
      "\n"
     ]
    }
   ],
   "source": [
    "print(np.eye(2), '\\n')\n",
    "print(np.eye(3), '\\n')\n",
    "print(np.eye(4), '\\n')"
   ]
  },
  {
   "cell_type": "code",
   "execution_count": 51,
   "metadata": {},
   "outputs": [
    {
     "name": "stdout",
     "output_type": "stream",
     "text": [
      "[ 0.1   0.2   0.25  0.5   1.    2.    2.5   5.   10.   20.  ] \n",
      "\n",
      "[[0.  0.2 0.4]\n",
      " [0.6 0.8 1. ]] \n",
      "\n",
      "[[[1. 1. 1. 1.]\n",
      "  [1. 1. 1. 1.]\n",
      "  [1. 1. 1. 1.]]\n",
      "\n",
      " [[1. 1. 1. 1.]\n",
      "  [1. 1. 1. 1.]\n",
      "  [1. 1. 1. 1.]]] \n",
      "\n"
     ]
    }
   ],
   "source": [
    "print(np.empty(10), '\\n')\n",
    "print(np.empty((2,3)), '\\n')\n",
    "print(np.empty((2,3,4)), '\\n')"
   ]
  },
  {
   "cell_type": "code",
   "execution_count": 52,
   "metadata": {},
   "outputs": [
    {
     "name": "stdout",
     "output_type": "stream",
     "text": [
      "[5 5 5 5 5 5 5 5 5 5] \n",
      "\n",
      "[[5 5 5]\n",
      " [5 5 5]] \n",
      "\n",
      "[[[5 5 5 5]\n",
      "  [5 5 5 5]\n",
      "  [5 5 5 5]]\n",
      "\n",
      " [[5 5 5 5]\n",
      "  [5 5 5 5]\n",
      "  [5 5 5 5]]] \n",
      "\n"
     ]
    }
   ],
   "source": [
    "print(np.full(10, 5), '\\n')\n",
    "print(np.full((2,3), 5), '\\n')\n",
    "print(np.full((2,3,4), 5), '\\n')"
   ]
  },
  {
   "cell_type": "code",
   "execution_count": 57,
   "metadata": {},
   "outputs": [
    {
     "name": "stdout",
     "output_type": "stream",
     "text": [
      "[0 1 2 3 4 5 6 7 8 9]\n",
      "[0 2 4 6 8]\n",
      "[10  9  8  7  6  5  4  3  2  1]\n"
     ]
    }
   ],
   "source": [
    "print(np.arange(10))\n",
    "print(np.arange(0,10,2))\n",
    "print(np.arange(10,0,-1))"
   ]
  },
  {
   "cell_type": "code",
   "execution_count": 58,
   "metadata": {},
   "outputs": [
    {
     "name": "stdout",
     "output_type": "stream",
     "text": [
      "[ 1.    3.25  5.5   7.75 10.  ]\n"
     ]
    }
   ],
   "source": [
    "print(np.linspace(1,10,5))"
   ]
  },
  {
   "cell_type": "code",
   "execution_count": 59,
   "metadata": {},
   "outputs": [
    {
     "name": "stdout",
     "output_type": "stream",
     "text": [
      "[[8 9 2]\n",
      " [3 5 6]] \n",
      "\n",
      "[[[6 2 2]\n",
      "  [5 3 7]\n",
      "  [3 8 9]]\n",
      "\n",
      " [[3 8 2]\n",
      "  [8 3 2]\n",
      "  [6 1 1]]]\n"
     ]
    }
   ],
   "source": [
    "print(np.random.randint(1,10, size =(2,3)), '\\n')\n",
    "print(np.random.randint(1,10, size =(2,3,3)))"
   ]
  },
  {
   "cell_type": "code",
   "execution_count": 67,
   "metadata": {},
   "outputs": [
    {
     "data": {
      "text/plain": [
       "array([[1, 2, 3],\n",
       "       [4, 5, 6],\n",
       "       [7, 8, 9]])"
      ]
     },
     "execution_count": 67,
     "metadata": {},
     "output_type": "execute_result"
    }
   ],
   "source": [
    "np.reshape(np.arange(1,10), newshape = (3,3))"
   ]
  },
  {
   "cell_type": "code",
   "execution_count": 69,
   "metadata": {},
   "outputs": [
    {
     "data": {
      "text/plain": [
       "array([[[ 0.92245138, -0.61191268, -0.50649058, -0.97863124],\n",
       "        [ 2.68705336, -1.56112715, -1.45963392, -1.36714615],\n",
       "        [-0.31884662, -1.03536186, -0.22210239,  0.27492936]],\n",
       "\n",
       "       [[ 0.53959965,  0.78758711,  0.51606309, -0.04334594],\n",
       "        [ 0.91431613, -0.37417147,  0.90423325, -0.48927942],\n",
       "        [-1.28687748, -0.36379778,  0.52553312,  1.27122735]]])"
      ]
     },
     "execution_count": 69,
     "metadata": {},
     "output_type": "execute_result"
    }
   ],
   "source": [
    "np.random.randn(2,3,4)"
   ]
  },
  {
   "cell_type": "code",
   "execution_count": 76,
   "metadata": {
    "scrolled": true
   },
   "outputs": [
    {
     "data": {
      "text/plain": [
       "array([-2.63859327,  0.11567677,  3.40349238, -2.10465694, -8.49853751,\n",
       "        2.56490253, -3.90223518,  5.11599771, -2.51831014, -4.4026687 ,\n",
       "        9.73937608,  1.16460413, -1.93608938, -0.26866594,  6.1732056 ,\n",
       "        3.31561547, -6.20602074,  3.11067303, -7.14738357,  0.60490004,\n",
       "       -7.98771443,  2.47358975,  3.62279965, 12.91944073,  6.40094652,\n",
       "        1.23009988,  3.53541681,  5.68682506, -3.46888416, -3.32486902,\n",
       "       -3.10516943, -4.90675209,  4.51490799,  5.90147156,  0.44663061,\n",
       "        1.71594416, -1.0968771 , -1.66967997,  4.98418417, -0.16469207,\n",
       "       -9.24959946,  2.07459398,  8.70224117, -6.43961108, -4.1054289 ,\n",
       "        2.66819968, -0.07094413, -8.05144793, -2.0667138 ,  8.51293521])"
      ]
     },
     "execution_count": 76,
     "metadata": {},
     "output_type": "execute_result"
    }
   ],
   "source": [
    "np.random.normal(0.5,5,50) # mean, st.d, samples"
   ]
  },
  {
   "cell_type": "code",
   "execution_count": 77,
   "metadata": {},
   "outputs": [
    {
     "data": {
      "text/plain": [
       "array([[ 0.06475417, -1.80577298,  0.89487566, -0.56286992, -0.39927546],\n",
       "       [-1.00461538, -0.78724308,  0.92518545,  0.10758801,  1.93149482],\n",
       "       [ 0.13661348, -1.63486319, -0.81273914,  0.0636947 , -1.68434856],\n",
       "       [ 0.0250264 , -0.37881671, -0.36325775, -1.72248808,  0.4247386 ],\n",
       "       [-1.28911767,  0.03906718, -0.88229235,  0.38726774, -2.23794272]])"
      ]
     },
     "execution_count": 77,
     "metadata": {},
     "output_type": "execute_result"
    }
   ],
   "source": [
    "np.random.normal(size = (5,5))"
   ]
  },
  {
   "cell_type": "markdown",
   "metadata": {},
   "source": [
    "- **type casting**"
   ]
  },
  {
   "cell_type": "code",
   "execution_count": 71,
   "metadata": {},
   "outputs": [
    {
     "data": {
      "text/plain": [
       "array([[[4, 1, 7],\n",
       "        [5, 8, 2],\n",
       "        [6, 2, 9]],\n",
       "\n",
       "       [[8, 3, 6],\n",
       "        [4, 3, 3],\n",
       "        [8, 3, 2]]])"
      ]
     },
     "execution_count": 71,
     "metadata": {},
     "output_type": "execute_result"
    }
   ],
   "source": [
    "a = np.random.randint(1,10, size = (2,3,3))\n",
    "a"
   ]
  },
  {
   "cell_type": "code",
   "execution_count": 73,
   "metadata": {},
   "outputs": [
    {
     "data": {
      "text/plain": [
       "array([[['4', '1', '7'],\n",
       "        ['5', '8', '2'],\n",
       "        ['6', '2', '9']],\n",
       "\n",
       "       [['8', '3', '6'],\n",
       "        ['4', '3', '3'],\n",
       "        ['8', '3', '2']]], dtype='<U11')"
      ]
     },
     "execution_count": 73,
     "metadata": {},
     "output_type": "execute_result"
    }
   ],
   "source": [
    "a.astype(str)"
   ]
  },
  {
   "cell_type": "code",
   "execution_count": 74,
   "metadata": {},
   "outputs": [
    {
     "data": {
      "text/plain": [
       "array([[[4., 1., 7.],\n",
       "        [5., 8., 2.],\n",
       "        [6., 2., 9.]],\n",
       "\n",
       "       [[8., 3., 6.],\n",
       "        [4., 3., 3.],\n",
       "        [8., 3., 2.]]])"
      ]
     },
     "execution_count": 74,
     "metadata": {},
     "output_type": "execute_result"
    }
   ],
   "source": [
    "a.astype(float)"
   ]
  },
  {
   "cell_type": "code",
   "execution_count": 78,
   "metadata": {},
   "outputs": [
    {
     "name": "stdout",
     "output_type": "stream",
     "text": [
      "min:  3.0074946489683603\n",
      "max:  6.678611929362092\n",
      "mean:  5.00479844650234\n",
      "median:  5.029484953001106\n",
      "mode:  ModeResult(mode=array([3.00749465]), count=array([1]))\n",
      "sd:  0.49331949684951004\n"
     ]
    }
   ],
   "source": [
    "from scipy import stats\n",
    "np_normal_dis = np.random.normal(5, 0.5, 1000) # mean, standard deviation, number of samples\n",
    "np_normal_dis\n",
    "## min, max, mean, median, sd\n",
    "print('min: ', np.min(np_normal_dis))\n",
    "print('max: ', np.max(np_normal_dis))\n",
    "print('mean: ', np.mean(np_normal_dis))\n",
    "print('median: ', np.median(np_normal_dis))\n",
    "print('mode: ', stats.mode(np_normal_dis))\n",
    "print('sd: ', np.std(np_normal_dis))"
   ]
  },
  {
   "cell_type": "code",
   "execution_count": 83,
   "metadata": {},
   "outputs": [
    {
     "data": {
      "image/png": "[encoded data removed]",
      "text/plain": [
       "<Figure size 432x288 with 1 Axes>"
      ]
     },
     "metadata": {
      "needs_background": "light"
     },
     "output_type": "display_data"
    }
   ],
   "source": [
    "plt.hist(np_normal_dis, bins = 20)\n",
    "plt.show()"
   ]
  },
  {
   "cell_type": "markdown",
   "metadata": {},
   "source": [
    "### Day 25 Pandas"
   ]
  },
  {
   "cell_type": "code",
   "execution_count": 84,
   "metadata": {},
   "outputs": [],
   "source": [
    "import pandas as pd"
   ]
  },
  {
   "cell_type": "code",
   "execution_count": 85,
   "metadata": {},
   "outputs": [
    {
     "data": {
      "text/plain": [
       "0    10\n",
       "1    20\n",
       "2    30\n",
       "3    40\n",
       "4    50\n",
       "dtype: int64"
      ]
     },
     "execution_count": 85,
     "metadata": {},
     "output_type": "execute_result"
    }
   ],
   "source": [
    "# Creating Pandas Series with Default Index\n",
    "a = [10,20,30,40,50]\n",
    "pd.Series(a)"
   ]
  },
  {
   "cell_type": "code",
   "execution_count": 86,
   "metadata": {},
   "outputs": [
    {
     "data": {
      "text/plain": [
       "a    10\n",
       "b    20\n",
       "c    30\n",
       "d    40\n",
       "e    50\n",
       "dtype: int64"
      ]
     },
     "execution_count": 86,
     "metadata": {},
     "output_type": "execute_result"
    }
   ],
   "source": [
    "# Creating Pandas Series with custom Index\n",
    "a = [10,20,30,40,50]\n",
    "pd.Series(a, index= ['a', 'b','c','d','e'])"
   ]
  },
  {
   "cell_type": "code",
   "execution_count": 87,
   "metadata": {},
   "outputs": [
    {
     "data": {
      "text/plain": [
       "name       Asabeneh\n",
       "country     Finland\n",
       "city       Helsinki\n",
       "dtype: object"
      ]
     },
     "execution_count": 87,
     "metadata": {},
     "output_type": "execute_result"
    }
   ],
   "source": [
    "# Creating Pandas Series from a Dictionary\n",
    "dct = {'name':'Asabeneh','country':'Finland','city':'Helsinki'}\n",
    "pd.Series(dct)"
   ]
  },
  {
   "cell_type": "code",
   "execution_count": 88,
   "metadata": {},
   "outputs": [
    {
     "data": {
      "text/plain": [
       "1    10\n",
       "2    10\n",
       "3    10\n",
       "4    10\n",
       "dtype: int64"
      ]
     },
     "execution_count": 88,
     "metadata": {},
     "output_type": "execute_result"
    }
   ],
   "source": [
    "# Creating a Constant Pandas Series\n",
    "pd.Series(10, index= [1,2,3,4])"
   ]
  },
  {
   "cell_type": "code",
   "execution_count": 89,
   "metadata": {},
   "outputs": [
    {
     "data": {
      "text/plain": [
       "0     1.000000\n",
       "1     3.111111\n",
       "2     5.222222\n",
       "3     7.333333\n",
       "4     9.444444\n",
       "5    11.555556\n",
       "6    13.666667\n",
       "7    15.777778\n",
       "8    17.888889\n",
       "9    20.000000\n",
       "dtype: float64"
      ]
     },
     "execution_count": 89,
     "metadata": {},
     "output_type": "execute_result"
    }
   ],
   "source": [
    "# Creating a Pandas Series Using Linspace\n",
    "pd.Series(np.linspace(1,20, 10))"
   ]
  },
  {
   "cell_type": "code",
   "execution_count": 92,
   "metadata": {},
   "outputs": [
    {
     "data": {
      "text/html": [
       "<div>\n",
       "<style scoped>\n",
       "    .dataframe tbody tr th:only-of-type {\n",
       "        vertical-align: middle;\n",
       "    }\n",
       "\n",
       "    .dataframe tbody tr th {\n",
       "        vertical-align: top;\n",
       "    }\n",
       "\n",
       "    .dataframe thead th {\n",
       "        text-align: right;\n",
       "    }\n",
       "</style>\n",
       "<table border=\"1\" class=\"dataframe\">\n",
       "  <thead>\n",
       "    <tr style=\"text-align: right;\">\n",
       "      <th></th>\n",
       "      <th>name</th>\n",
       "      <th>country</th>\n",
       "      <th>city</th>\n",
       "    </tr>\n",
       "  </thead>\n",
       "  <tbody>\n",
       "    <tr>\n",
       "      <th>0</th>\n",
       "      <td>Asabeneh</td>\n",
       "      <td>Finland</td>\n",
       "      <td>Helsink</td>\n",
       "    </tr>\n",
       "    <tr>\n",
       "      <th>1</th>\n",
       "      <td>David</td>\n",
       "      <td>UK</td>\n",
       "      <td>London</td>\n",
       "    </tr>\n",
       "    <tr>\n",
       "      <th>2</th>\n",
       "      <td>John</td>\n",
       "      <td>Sweden</td>\n",
       "      <td>Stockholm</td>\n",
       "    </tr>\n",
       "  </tbody>\n",
       "</table>\n",
       "</div>"
      ],
      "text/plain": [
       "       name  country       city\n",
       "0  Asabeneh  Finland    Helsink\n",
       "1     David       UK     London\n",
       "2      John   Sweden  Stockholm"
      ]
     },
     "execution_count": 92,
     "metadata": {},
     "output_type": "execute_result"
    }
   ],
   "source": [
    "# Creating DataFrames from List of Lists\n",
    "data = [\n",
    "    ['Asabeneh', 'Finland', 'Helsink'], \n",
    "    ['David', 'UK', 'London'],\n",
    "    ['John', 'Sweden', 'Stockholm']\n",
    "]\n",
    "pd.DataFrame(data, columns= ['name', 'country','city'])"
   ]
  },
  {
   "cell_type": "code",
   "execution_count": 94,
   "metadata": {},
   "outputs": [
    {
     "data": {
      "text/html": [
       "<div>\n",
       "<style scoped>\n",
       "    .dataframe tbody tr th:only-of-type {\n",
       "        vertical-align: middle;\n",
       "    }\n",
       "\n",
       "    .dataframe tbody tr th {\n",
       "        vertical-align: top;\n",
       "    }\n",
       "\n",
       "    .dataframe thead th {\n",
       "        text-align: right;\n",
       "    }\n",
       "</style>\n",
       "<table border=\"1\" class=\"dataframe\">\n",
       "  <thead>\n",
       "    <tr style=\"text-align: right;\">\n",
       "      <th></th>\n",
       "      <th>Name</th>\n",
       "      <th>Country</th>\n",
       "      <th>City</th>\n",
       "    </tr>\n",
       "  </thead>\n",
       "  <tbody>\n",
       "    <tr>\n",
       "      <th>0</th>\n",
       "      <td>Asabeneh</td>\n",
       "      <td>Finland</td>\n",
       "      <td>Helsiki</td>\n",
       "    </tr>\n",
       "    <tr>\n",
       "      <th>1</th>\n",
       "      <td>David</td>\n",
       "      <td>UK</td>\n",
       "      <td>London</td>\n",
       "    </tr>\n",
       "    <tr>\n",
       "      <th>2</th>\n",
       "      <td>John</td>\n",
       "      <td>Sweden</td>\n",
       "      <td>Stockholm</td>\n",
       "    </tr>\n",
       "  </tbody>\n",
       "</table>\n",
       "</div>"
      ],
      "text/plain": [
       "       Name  Country       City\n",
       "0  Asabeneh  Finland    Helsiki\n",
       "1     David       UK     London\n",
       "2      John   Sweden  Stockholm"
      ]
     },
     "execution_count": 94,
     "metadata": {},
     "output_type": "execute_result"
    }
   ],
   "source": [
    "#  creating DtaFrames from dict\n",
    "data = {'Name': ['Asabeneh', 'David', 'John'], \n",
    "        'Country':['Finland', 'UK', 'Sweden'], \n",
    "        'City': ['Helsiki', 'London', 'Stockholm']}\n",
    "pd.DataFrame(data)"
   ]
  },
  {
   "cell_type": "code",
   "execution_count": 123,
   "metadata": {},
   "outputs": [
    {
     "data": {
      "text/html": [
       "<div>\n",
       "<style scoped>\n",
       "    .dataframe tbody tr th:only-of-type {\n",
       "        vertical-align: middle;\n",
       "    }\n",
       "\n",
       "    .dataframe tbody tr th {\n",
       "        vertical-align: top;\n",
       "    }\n",
       "\n",
       "    .dataframe thead th {\n",
       "        text-align: right;\n",
       "    }\n",
       "</style>\n",
       "<table border=\"1\" class=\"dataframe\">\n",
       "  <thead>\n",
       "    <tr style=\"text-align: right;\">\n",
       "      <th></th>\n",
       "      <th>Name</th>\n",
       "      <th>Country</th>\n",
       "      <th>City</th>\n",
       "    </tr>\n",
       "  </thead>\n",
       "  <tbody>\n",
       "    <tr>\n",
       "      <th>0</th>\n",
       "      <td>Asabeneh</td>\n",
       "      <td>Finland</td>\n",
       "      <td>Helsinki</td>\n",
       "    </tr>\n",
       "    <tr>\n",
       "      <th>1</th>\n",
       "      <td>David</td>\n",
       "      <td>UK</td>\n",
       "      <td>London</td>\n",
       "    </tr>\n",
       "    <tr>\n",
       "      <th>2</th>\n",
       "      <td>John</td>\n",
       "      <td>Sweden</td>\n",
       "      <td>Stockholm</td>\n",
       "    </tr>\n",
       "  </tbody>\n",
       "</table>\n",
       "</div>"
      ],
      "text/plain": [
       "       Name  Country       City\n",
       "0  Asabeneh  Finland   Helsinki\n",
       "1     David       UK     London\n",
       "2      John   Sweden  Stockholm"
      ]
     },
     "execution_count": 123,
     "metadata": {},
     "output_type": "execute_result"
    }
   ],
   "source": [
    "# Creating DataFrames from a List of Dictionaries\n",
    "data = [\n",
    "    {'Name': 'Asabeneh', 'Country': 'Finland', 'City': 'Helsinki'},\n",
    "    {'Name': 'David', 'Country': 'UK', 'City': 'London'},\n",
    "    {'Name': 'John', 'Country': 'Sweden', 'City': 'Stockholm'}]\n",
    "df = pd.DataFrame(data)\n",
    "df"
   ]
  },
  {
   "cell_type": "code",
   "execution_count": 124,
   "metadata": {
    "scrolled": true
   },
   "outputs": [
    {
     "data": {
      "text/html": [
       "<div>\n",
       "<style scoped>\n",
       "    .dataframe tbody tr th:only-of-type {\n",
       "        vertical-align: middle;\n",
       "    }\n",
       "\n",
       "    .dataframe tbody tr th {\n",
       "        vertical-align: top;\n",
       "    }\n",
       "\n",
       "    .dataframe thead th {\n",
       "        text-align: right;\n",
       "    }\n",
       "</style>\n",
       "<table border=\"1\" class=\"dataframe\">\n",
       "  <thead>\n",
       "    <tr style=\"text-align: right;\">\n",
       "      <th></th>\n",
       "      <th>Name</th>\n",
       "      <th>Country</th>\n",
       "      <th>City</th>\n",
       "      <th>weights</th>\n",
       "    </tr>\n",
       "  </thead>\n",
       "  <tbody>\n",
       "    <tr>\n",
       "      <th>0</th>\n",
       "      <td>Asabeneh</td>\n",
       "      <td>Finland</td>\n",
       "      <td>Helsinki</td>\n",
       "      <td>10</td>\n",
       "    </tr>\n",
       "    <tr>\n",
       "      <th>1</th>\n",
       "      <td>David</td>\n",
       "      <td>UK</td>\n",
       "      <td>London</td>\n",
       "      <td>20</td>\n",
       "    </tr>\n",
       "    <tr>\n",
       "      <th>2</th>\n",
       "      <td>John</td>\n",
       "      <td>Sweden</td>\n",
       "      <td>Stockholm</td>\n",
       "      <td>30</td>\n",
       "    </tr>\n",
       "  </tbody>\n",
       "</table>\n",
       "</div>"
      ],
      "text/plain": [
       "       Name  Country       City  weights\n",
       "0  Asabeneh  Finland   Helsinki       10\n",
       "1     David       UK     London       20\n",
       "2      John   Sweden  Stockholm       30"
      ]
     },
     "execution_count": 124,
     "metadata": {},
     "output_type": "execute_result"
    }
   ],
   "source": [
    "# add new column\n",
    "weights = [10,20,30]\n",
    "df['weights'] = weights\n",
    "df"
   ]
  },
  {
   "cell_type": "code",
   "execution_count": 125,
   "metadata": {},
   "outputs": [
    {
     "data": {
      "text/html": [
       "<div>\n",
       "<style scoped>\n",
       "    .dataframe tbody tr th:only-of-type {\n",
       "        vertical-align: middle;\n",
       "    }\n",
       "\n",
       "    .dataframe tbody tr th {\n",
       "        vertical-align: top;\n",
       "    }\n",
       "\n",
       "    .dataframe thead th {\n",
       "        text-align: right;\n",
       "    }\n",
       "</style>\n",
       "<table border=\"1\" class=\"dataframe\">\n",
       "  <thead>\n",
       "    <tr style=\"text-align: right;\">\n",
       "      <th></th>\n",
       "      <th>Name</th>\n",
       "      <th>Country</th>\n",
       "      <th>City</th>\n",
       "      <th>weights</th>\n",
       "      <th>Height</th>\n",
       "    </tr>\n",
       "  </thead>\n",
       "  <tbody>\n",
       "    <tr>\n",
       "      <th>0</th>\n",
       "      <td>Asabeneh</td>\n",
       "      <td>Finland</td>\n",
       "      <td>Helsinki</td>\n",
       "      <td>10</td>\n",
       "      <td>173</td>\n",
       "    </tr>\n",
       "    <tr>\n",
       "      <th>1</th>\n",
       "      <td>David</td>\n",
       "      <td>UK</td>\n",
       "      <td>London</td>\n",
       "      <td>20</td>\n",
       "      <td>175</td>\n",
       "    </tr>\n",
       "    <tr>\n",
       "      <th>2</th>\n",
       "      <td>John</td>\n",
       "      <td>Sweden</td>\n",
       "      <td>Stockholm</td>\n",
       "      <td>30</td>\n",
       "      <td>169</td>\n",
       "    </tr>\n",
       "  </tbody>\n",
       "</table>\n",
       "</div>"
      ],
      "text/plain": [
       "       Name  Country       City  weights  Height\n",
       "0  Asabeneh  Finland   Helsinki       10     173\n",
       "1     David       UK     London       20     175\n",
       "2      John   Sweden  Stockholm       30     169"
      ]
     },
     "execution_count": 125,
     "metadata": {},
     "output_type": "execute_result"
    }
   ],
   "source": [
    "heights = [173, 175, 169]\n",
    "df['Height'] = heights\n",
    "df"
   ]
  },
  {
   "cell_type": "code",
   "execution_count": 126,
   "metadata": {},
   "outputs": [
    {
     "data": {
      "text/html": [
       "<div>\n",
       "<style scoped>\n",
       "    .dataframe tbody tr th:only-of-type {\n",
       "        vertical-align: middle;\n",
       "    }\n",
       "\n",
       "    .dataframe tbody tr th {\n",
       "        vertical-align: top;\n",
       "    }\n",
       "\n",
       "    .dataframe thead th {\n",
       "        text-align: right;\n",
       "    }\n",
       "</style>\n",
       "<table border=\"1\" class=\"dataframe\">\n",
       "  <thead>\n",
       "    <tr style=\"text-align: right;\">\n",
       "      <th></th>\n",
       "      <th>Name</th>\n",
       "      <th>Country</th>\n",
       "      <th>City</th>\n",
       "      <th>weights</th>\n",
       "      <th>Height</th>\n",
       "    </tr>\n",
       "  </thead>\n",
       "  <tbody>\n",
       "    <tr>\n",
       "      <th>0</th>\n",
       "      <td>Asabeneh</td>\n",
       "      <td>Finland</td>\n",
       "      <td>Helsinki</td>\n",
       "      <td>20</td>\n",
       "      <td>173</td>\n",
       "    </tr>\n",
       "    <tr>\n",
       "      <th>1</th>\n",
       "      <td>David</td>\n",
       "      <td>UK</td>\n",
       "      <td>London</td>\n",
       "      <td>30</td>\n",
       "      <td>175</td>\n",
       "    </tr>\n",
       "    <tr>\n",
       "      <th>2</th>\n",
       "      <td>John</td>\n",
       "      <td>Sweden</td>\n",
       "      <td>Stockholm</td>\n",
       "      <td>40</td>\n",
       "      <td>169</td>\n",
       "    </tr>\n",
       "  </tbody>\n",
       "</table>\n",
       "</div>"
      ],
      "text/plain": [
       "       Name  Country       City  weights  Height\n",
       "0  Asabeneh  Finland   Helsinki       20     173\n",
       "1     David       UK     London       30     175\n",
       "2      John   Sweden  Stockholm       40     169"
      ]
     },
     "execution_count": 126,
     "metadata": {},
     "output_type": "execute_result"
    }
   ],
   "source": [
    "# adding a constant\n",
    "df['weights'] = df['weights'] + 10\n",
    "df"
   ]
  },
  {
   "cell_type": "code",
   "execution_count": 127,
   "metadata": {},
   "outputs": [
    {
     "data": {
      "text/html": [
       "<div>\n",
       "<style scoped>\n",
       "    .dataframe tbody tr th:only-of-type {\n",
       "        vertical-align: middle;\n",
       "    }\n",
       "\n",
       "    .dataframe tbody tr th {\n",
       "        vertical-align: top;\n",
       "    }\n",
       "\n",
       "    .dataframe thead th {\n",
       "        text-align: right;\n",
       "    }\n",
       "</style>\n",
       "<table border=\"1\" class=\"dataframe\">\n",
       "  <thead>\n",
       "    <tr style=\"text-align: right;\">\n",
       "      <th></th>\n",
       "      <th>Name</th>\n",
       "      <th>Country</th>\n",
       "      <th>City</th>\n",
       "      <th>weights</th>\n",
       "      <th>Height</th>\n",
       "    </tr>\n",
       "  </thead>\n",
       "  <tbody>\n",
       "    <tr>\n",
       "      <th>0</th>\n",
       "      <td>Asabeneh</td>\n",
       "      <td>Finland</td>\n",
       "      <td>Helsinki</td>\n",
       "      <td>20</td>\n",
       "      <td>1.73</td>\n",
       "    </tr>\n",
       "    <tr>\n",
       "      <th>1</th>\n",
       "      <td>David</td>\n",
       "      <td>UK</td>\n",
       "      <td>London</td>\n",
       "      <td>30</td>\n",
       "      <td>1.75</td>\n",
       "    </tr>\n",
       "    <tr>\n",
       "      <th>2</th>\n",
       "      <td>John</td>\n",
       "      <td>Sweden</td>\n",
       "      <td>Stockholm</td>\n",
       "      <td>40</td>\n",
       "      <td>1.69</td>\n",
       "    </tr>\n",
       "  </tbody>\n",
       "</table>\n",
       "</div>"
      ],
      "text/plain": [
       "       Name  Country       City  weights  Height\n",
       "0  Asabeneh  Finland   Helsinki       20    1.73\n",
       "1     David       UK     London       30    1.75\n",
       "2      John   Sweden  Stockholm       40    1.69"
      ]
     },
     "execution_count": 127,
     "metadata": {},
     "output_type": "execute_result"
    }
   ],
   "source": [
    "# multiplication of heights\n",
    "df['Height'] = df['Height'] * 0.01\n",
    "df"
   ]
  },
  {
   "cell_type": "code",
   "execution_count": 128,
   "metadata": {},
   "outputs": [
    {
     "data": {
      "text/plain": [
       "[6.682481873767917, 9.795918367346939, 14.00511186583103]"
      ]
     },
     "execution_count": 128,
     "metadata": {},
     "output_type": "execute_result"
    }
   ],
   "source": [
    "# cauclulate_bmi\n",
    "\n",
    "def get_bmi():\n",
    "    weights = df['weights']\n",
    "    heights = df['Height']\n",
    "    bmi = []\n",
    "    for i, j in zip(weights, heights):\n",
    "        b = (i / (j*j))\n",
    "        bmi.append(b)\n",
    "    return bmi\n",
    "bmi = get_bmi()\n",
    "bmi"
   ]
  },
  {
   "cell_type": "code",
   "execution_count": 129,
   "metadata": {},
   "outputs": [
    {
     "data": {
      "text/html": [
       "<div>\n",
       "<style scoped>\n",
       "    .dataframe tbody tr th:only-of-type {\n",
       "        vertical-align: middle;\n",
       "    }\n",
       "\n",
       "    .dataframe tbody tr th {\n",
       "        vertical-align: top;\n",
       "    }\n",
       "\n",
       "    .dataframe thead th {\n",
       "        text-align: right;\n",
       "    }\n",
       "</style>\n",
       "<table border=\"1\" class=\"dataframe\">\n",
       "  <thead>\n",
       "    <tr style=\"text-align: right;\">\n",
       "      <th></th>\n",
       "      <th>Name</th>\n",
       "      <th>Country</th>\n",
       "      <th>City</th>\n",
       "      <th>weights</th>\n",
       "      <th>Height</th>\n",
       "      <th>bmi</th>\n",
       "    </tr>\n",
       "  </thead>\n",
       "  <tbody>\n",
       "    <tr>\n",
       "      <th>0</th>\n",
       "      <td>Asabeneh</td>\n",
       "      <td>Finland</td>\n",
       "      <td>Helsinki</td>\n",
       "      <td>20</td>\n",
       "      <td>1.73</td>\n",
       "      <td>6.682482</td>\n",
       "    </tr>\n",
       "    <tr>\n",
       "      <th>1</th>\n",
       "      <td>David</td>\n",
       "      <td>UK</td>\n",
       "      <td>London</td>\n",
       "      <td>30</td>\n",
       "      <td>1.75</td>\n",
       "      <td>9.795918</td>\n",
       "    </tr>\n",
       "    <tr>\n",
       "      <th>2</th>\n",
       "      <td>John</td>\n",
       "      <td>Sweden</td>\n",
       "      <td>Stockholm</td>\n",
       "      <td>40</td>\n",
       "      <td>1.69</td>\n",
       "      <td>14.005112</td>\n",
       "    </tr>\n",
       "  </tbody>\n",
       "</table>\n",
       "</div>"
      ],
      "text/plain": [
       "       Name  Country       City  weights  Height        bmi\n",
       "0  Asabeneh  Finland   Helsinki       20    1.73   6.682482\n",
       "1     David       UK     London       30    1.75   9.795918\n",
       "2      John   Sweden  Stockholm       40    1.69  14.005112"
      ]
     },
     "execution_count": 129,
     "metadata": {},
     "output_type": "execute_result"
    }
   ],
   "source": [
    "df['bmi'] = bmi\n",
    "df"
   ]
  },
  {
   "cell_type": "code",
   "execution_count": 130,
   "metadata": {},
   "outputs": [
    {
     "data": {
      "text/html": [
       "<div>\n",
       "<style scoped>\n",
       "    .dataframe tbody tr th:only-of-type {\n",
       "        vertical-align: middle;\n",
       "    }\n",
       "\n",
       "    .dataframe tbody tr th {\n",
       "        vertical-align: top;\n",
       "    }\n",
       "\n",
       "    .dataframe thead th {\n",
       "        text-align: right;\n",
       "    }\n",
       "</style>\n",
       "<table border=\"1\" class=\"dataframe\">\n",
       "  <thead>\n",
       "    <tr style=\"text-align: right;\">\n",
       "      <th></th>\n",
       "      <th>Name</th>\n",
       "      <th>Country</th>\n",
       "      <th>City</th>\n",
       "      <th>weights</th>\n",
       "      <th>Height</th>\n",
       "      <th>bmi</th>\n",
       "      <th>bmi2</th>\n",
       "    </tr>\n",
       "  </thead>\n",
       "  <tbody>\n",
       "    <tr>\n",
       "      <th>0</th>\n",
       "      <td>Asabeneh</td>\n",
       "      <td>Finland</td>\n",
       "      <td>Helsinki</td>\n",
       "      <td>20</td>\n",
       "      <td>1.73</td>\n",
       "      <td>6.682482</td>\n",
       "      <td>6.682482</td>\n",
       "    </tr>\n",
       "    <tr>\n",
       "      <th>1</th>\n",
       "      <td>David</td>\n",
       "      <td>UK</td>\n",
       "      <td>London</td>\n",
       "      <td>30</td>\n",
       "      <td>1.75</td>\n",
       "      <td>9.795918</td>\n",
       "      <td>9.795918</td>\n",
       "    </tr>\n",
       "    <tr>\n",
       "      <th>2</th>\n",
       "      <td>John</td>\n",
       "      <td>Sweden</td>\n",
       "      <td>Stockholm</td>\n",
       "      <td>40</td>\n",
       "      <td>1.69</td>\n",
       "      <td>14.005112</td>\n",
       "      <td>14.005112</td>\n",
       "    </tr>\n",
       "  </tbody>\n",
       "</table>\n",
       "</div>"
      ],
      "text/plain": [
       "       Name  Country       City  weights  Height        bmi       bmi2\n",
       "0  Asabeneh  Finland   Helsinki       20    1.73   6.682482   6.682482\n",
       "1     David       UK     London       30    1.75   9.795918   9.795918\n",
       "2      John   Sweden  Stockholm       40    1.69  14.005112  14.005112"
      ]
     },
     "execution_count": 130,
     "metadata": {},
     "output_type": "execute_result"
    }
   ],
   "source": [
    "df['bmi2'] = (df['weights'] / (df['Height']* df['Height']))\n",
    "df"
   ]
  },
  {
   "cell_type": "code",
   "execution_count": 132,
   "metadata": {},
   "outputs": [],
   "source": [
    "# formatting\n",
    "df['bmi'] = round(df['bmi'],1)"
   ]
  },
  {
   "cell_type": "code",
   "execution_count": 133,
   "metadata": {},
   "outputs": [
    {
     "data": {
      "text/html": [
       "<div>\n",
       "<style scoped>\n",
       "    .dataframe tbody tr th:only-of-type {\n",
       "        vertical-align: middle;\n",
       "    }\n",
       "\n",
       "    .dataframe tbody tr th {\n",
       "        vertical-align: top;\n",
       "    }\n",
       "\n",
       "    .dataframe thead th {\n",
       "        text-align: right;\n",
       "    }\n",
       "</style>\n",
       "<table border=\"1\" class=\"dataframe\">\n",
       "  <thead>\n",
       "    <tr style=\"text-align: right;\">\n",
       "      <th></th>\n",
       "      <th>Name</th>\n",
       "      <th>Country</th>\n",
       "      <th>City</th>\n",
       "      <th>weights</th>\n",
       "      <th>Height</th>\n",
       "      <th>bmi</th>\n",
       "      <th>bmi2</th>\n",
       "    </tr>\n",
       "  </thead>\n",
       "  <tbody>\n",
       "    <tr>\n",
       "      <th>0</th>\n",
       "      <td>Asabeneh</td>\n",
       "      <td>Finland</td>\n",
       "      <td>Helsinki</td>\n",
       "      <td>20</td>\n",
       "      <td>1.73</td>\n",
       "      <td>6.7</td>\n",
       "      <td>6.682482</td>\n",
       "    </tr>\n",
       "    <tr>\n",
       "      <th>1</th>\n",
       "      <td>David</td>\n",
       "      <td>UK</td>\n",
       "      <td>London</td>\n",
       "      <td>30</td>\n",
       "      <td>1.75</td>\n",
       "      <td>9.8</td>\n",
       "      <td>9.795918</td>\n",
       "    </tr>\n",
       "    <tr>\n",
       "      <th>2</th>\n",
       "      <td>John</td>\n",
       "      <td>Sweden</td>\n",
       "      <td>Stockholm</td>\n",
       "      <td>40</td>\n",
       "      <td>1.69</td>\n",
       "      <td>14.0</td>\n",
       "      <td>14.005112</td>\n",
       "    </tr>\n",
       "  </tbody>\n",
       "</table>\n",
       "</div>"
      ],
      "text/plain": [
       "       Name  Country       City  weights  Height   bmi       bmi2\n",
       "0  Asabeneh  Finland   Helsinki       20    1.73   6.7   6.682482\n",
       "1     David       UK     London       30    1.75   9.8   9.795918\n",
       "2      John   Sweden  Stockholm       40    1.69  14.0  14.005112"
      ]
     },
     "execution_count": 133,
     "metadata": {},
     "output_type": "execute_result"
    }
   ],
   "source": [
    "df"
   ]
  },
  {
   "cell_type": "code",
   "execution_count": 134,
   "metadata": {},
   "outputs": [
    {
     "data": {
      "text/html": [
       "<div>\n",
       "<style scoped>\n",
       "    .dataframe tbody tr th:only-of-type {\n",
       "        vertical-align: middle;\n",
       "    }\n",
       "\n",
       "    .dataframe tbody tr th {\n",
       "        vertical-align: top;\n",
       "    }\n",
       "\n",
       "    .dataframe thead th {\n",
       "        text-align: right;\n",
       "    }\n",
       "</style>\n",
       "<table border=\"1\" class=\"dataframe\">\n",
       "  <thead>\n",
       "    <tr style=\"text-align: right;\">\n",
       "      <th></th>\n",
       "      <th>Name</th>\n",
       "      <th>Country</th>\n",
       "      <th>City</th>\n",
       "      <th>weights</th>\n",
       "      <th>Height</th>\n",
       "      <th>bmi</th>\n",
       "      <th>bmi2</th>\n",
       "      <th>birth_year</th>\n",
       "      <th>c_year</th>\n",
       "    </tr>\n",
       "  </thead>\n",
       "  <tbody>\n",
       "    <tr>\n",
       "      <th>0</th>\n",
       "      <td>Asabeneh</td>\n",
       "      <td>Finland</td>\n",
       "      <td>Helsinki</td>\n",
       "      <td>20</td>\n",
       "      <td>1.73</td>\n",
       "      <td>6.7</td>\n",
       "      <td>6.682482</td>\n",
       "      <td>1769</td>\n",
       "      <td>2020</td>\n",
       "    </tr>\n",
       "    <tr>\n",
       "      <th>1</th>\n",
       "      <td>David</td>\n",
       "      <td>UK</td>\n",
       "      <td>London</td>\n",
       "      <td>30</td>\n",
       "      <td>1.75</td>\n",
       "      <td>9.8</td>\n",
       "      <td>9.795918</td>\n",
       "      <td>1985</td>\n",
       "      <td>2020</td>\n",
       "    </tr>\n",
       "    <tr>\n",
       "      <th>2</th>\n",
       "      <td>John</td>\n",
       "      <td>Sweden</td>\n",
       "      <td>Stockholm</td>\n",
       "      <td>40</td>\n",
       "      <td>1.69</td>\n",
       "      <td>14.0</td>\n",
       "      <td>14.005112</td>\n",
       "      <td>1990</td>\n",
       "      <td>2020</td>\n",
       "    </tr>\n",
       "  </tbody>\n",
       "</table>\n",
       "</div>"
      ],
      "text/plain": [
       "       Name  Country       City  weights  Height   bmi       bmi2 birth_year  \\\n",
       "0  Asabeneh  Finland   Helsinki       20    1.73   6.7   6.682482       1769   \n",
       "1     David       UK     London       30    1.75   9.8   9.795918       1985   \n",
       "2      John   Sweden  Stockholm       40    1.69  14.0  14.005112       1990   \n",
       "\n",
       "   c_year  \n",
       "0    2020  \n",
       "1    2020  \n",
       "2    2020  "
      ]
     },
     "execution_count": 134,
     "metadata": {},
     "output_type": "execute_result"
    }
   ],
   "source": [
    "# adding additional columns\n",
    "birth_year = ['1769', '1985', '1990']\n",
    "current_year = pd.Series(2020, index= [0,1,2])\n",
    "df['birth_year']= birth_year\n",
    "df['c_year'] = current_year\n",
    "df"
   ]
  },
  {
   "cell_type": "code",
   "execution_count": 136,
   "metadata": {},
   "outputs": [
    {
     "data": {
      "text/plain": [
       "str"
      ]
     },
     "execution_count": 136,
     "metadata": {},
     "output_type": "execute_result"
    }
   ],
   "source": [
    "# type check\n",
    "type(df['birth_year'][0])"
   ]
  },
  {
   "cell_type": "code",
   "execution_count": 138,
   "metadata": {},
   "outputs": [
    {
     "data": {
      "text/plain": [
       "numpy.int32"
      ]
     },
     "execution_count": 138,
     "metadata": {},
     "output_type": "execute_result"
    }
   ],
   "source": [
    "df['birth_year'] = df['birth_year'].astype(np.int)\n",
    "type(df['birth_year'][0])"
   ]
  },
  {
   "cell_type": "code",
   "execution_count": 139,
   "metadata": {},
   "outputs": [
    {
     "data": {
      "text/html": [
       "<div>\n",
       "<style scoped>\n",
       "    .dataframe tbody tr th:only-of-type {\n",
       "        vertical-align: middle;\n",
       "    }\n",
       "\n",
       "    .dataframe tbody tr th {\n",
       "        vertical-align: top;\n",
       "    }\n",
       "\n",
       "    .dataframe thead th {\n",
       "        text-align: right;\n",
       "    }\n",
       "</style>\n",
       "<table border=\"1\" class=\"dataframe\">\n",
       "  <thead>\n",
       "    <tr style=\"text-align: right;\">\n",
       "      <th></th>\n",
       "      <th>Name</th>\n",
       "      <th>Country</th>\n",
       "      <th>City</th>\n",
       "      <th>weights</th>\n",
       "      <th>Height</th>\n",
       "      <th>bmi</th>\n",
       "      <th>bmi2</th>\n",
       "      <th>birth_year</th>\n",
       "      <th>c_year</th>\n",
       "      <th>ages</th>\n",
       "    </tr>\n",
       "  </thead>\n",
       "  <tbody>\n",
       "    <tr>\n",
       "      <th>0</th>\n",
       "      <td>Asabeneh</td>\n",
       "      <td>Finland</td>\n",
       "      <td>Helsinki</td>\n",
       "      <td>20</td>\n",
       "      <td>1.73</td>\n",
       "      <td>6.7</td>\n",
       "      <td>6.682482</td>\n",
       "      <td>1769</td>\n",
       "      <td>2020</td>\n",
       "      <td>251</td>\n",
       "    </tr>\n",
       "    <tr>\n",
       "      <th>1</th>\n",
       "      <td>David</td>\n",
       "      <td>UK</td>\n",
       "      <td>London</td>\n",
       "      <td>30</td>\n",
       "      <td>1.75</td>\n",
       "      <td>9.8</td>\n",
       "      <td>9.795918</td>\n",
       "      <td>1985</td>\n",
       "      <td>2020</td>\n",
       "      <td>35</td>\n",
       "    </tr>\n",
       "    <tr>\n",
       "      <th>2</th>\n",
       "      <td>John</td>\n",
       "      <td>Sweden</td>\n",
       "      <td>Stockholm</td>\n",
       "      <td>40</td>\n",
       "      <td>1.69</td>\n",
       "      <td>14.0</td>\n",
       "      <td>14.005112</td>\n",
       "      <td>1990</td>\n",
       "      <td>2020</td>\n",
       "      <td>30</td>\n",
       "    </tr>\n",
       "  </tbody>\n",
       "</table>\n",
       "</div>"
      ],
      "text/plain": [
       "       Name  Country       City  weights  Height   bmi       bmi2  birth_year  \\\n",
       "0  Asabeneh  Finland   Helsinki       20    1.73   6.7   6.682482        1769   \n",
       "1     David       UK     London       30    1.75   9.8   9.795918        1985   \n",
       "2      John   Sweden  Stockholm       40    1.69  14.0  14.005112        1990   \n",
       "\n",
       "   c_year  ages  \n",
       "0    2020   251  \n",
       "1    2020    35  \n",
       "2    2020    30  "
      ]
     },
     "execution_count": 139,
     "metadata": {},
     "output_type": "execute_result"
    }
   ],
   "source": [
    "df['ages'] = df['c_year'] - df['birth_year']\n",
    "df"
   ]
  },
  {
   "cell_type": "code",
   "execution_count": null,
   "metadata": {},
   "outputs": [],
   "source": []
  }
 ],
 "metadata": {
  "kernelspec": {
   "display_name": "Python 3",
   "language": "python",
   "name": "python3"
  },
  "language_info": {
   "codemirror_mode": {
    "name": "ipython",
    "version": 3
   },
   "file_extension": ".py",
   "mimetype": "text/x-python",
   "name": "python",
   "nbconvert_exporter": "python",
   "pygments_lexer": "ipython3",
   "version": "3.7.6"
  }
 },
 "nbformat": 4,
 "nbformat_minor": 4
}
